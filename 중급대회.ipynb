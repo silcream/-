{
 "cells": [
  {
   "cell_type": "code",
   "execution_count": 1,
   "id": "9ad369e6",
   "metadata": {},
   "outputs": [],
   "source": [
    "import warnings\n",
    "warnings.filterwarnings(action='ignore')"
   ]
  },
  {
   "cell_type": "code",
   "execution_count": 2,
   "id": "d40bf1da",
   "metadata": {},
   "outputs": [],
   "source": [
    "## 데이터 전처리\n",
    "\n",
    "import pandas as pd\n",
    "import numpy as np\n",
    "import sys\n",
    "import pickle\n",
    "\n",
    "## 데이터 시각화\n",
    "import seaborn as sb\n",
    "import matplotlib.pyplot as plt\n",
    "from matplotlib import font_manager, rc\n",
    "## 딥러닝 모델링\n",
    "\n",
    "from sklearn import metrics\n",
    "from sklearn.metrics import accuracy_score\n",
    "from sklearn.metrics import classification_report, confusion_matrix\n",
    "from sklearn import tree\n",
    "from sklearn.ensemble import RandomForestClassifier\n",
    "from sklearn.linear_model import LogisticRegression\n",
    "from sklearn.ensemble import RandomForestClassifier\n",
    "from sklearn.preprocessing import MinMaxScaler\n",
    "from sklearn.preprocessing import StandardScaler\n",
    "from sklearn.model_selection import train_test_split\n",
    "from xgboost import XGBClassifier\n",
    "import joblib\n",
    "import itertools\n",
    "import missingno as msno\n",
    "import os\n",
    "import warnings\n",
    "np.set_printoptions(threshold=sys.maxsize)\n",
    "warnings.filterwarnings(action='ignore')"
   ]
  },
  {
   "cell_type": "code",
   "execution_count": 3,
   "id": "51863c45",
   "metadata": {},
   "outputs": [],
   "source": [
    "file_path = 'E:/중급/train_data.csv'"
   ]
  },
  {
   "cell_type": "code",
   "execution_count": 4,
   "id": "14cef2dc",
   "metadata": {},
   "outputs": [],
   "source": [
    "file_path2 = 'E:/중급/test_data.csv'"
   ]
  },
  {
   "cell_type": "code",
   "execution_count": 5,
   "id": "ea5b0a66",
   "metadata": {},
   "outputs": [],
   "source": [
    "file_path3 = 'E:/중급/train_label.csv'"
   ]
  },
  {
   "cell_type": "code",
   "execution_count": 6,
   "id": "0dcaed23",
   "metadata": {},
   "outputs": [
    {
     "data": {
      "text/html": [
       "<div>\n",
       "<style scoped>\n",
       "    .dataframe tbody tr th:only-of-type {\n",
       "        vertical-align: middle;\n",
       "    }\n",
       "\n",
       "    .dataframe tbody tr th {\n",
       "        vertical-align: top;\n",
       "    }\n",
       "\n",
       "    .dataframe thead th {\n",
       "        text-align: right;\n",
       "    }\n",
       "</style>\n",
       "<table border=\"1\" class=\"dataframe\">\n",
       "  <thead>\n",
       "    <tr style=\"text-align: right;\">\n",
       "      <th></th>\n",
       "      <th>ID</th>\n",
       "      <th>sensor_A</th>\n",
       "      <th>sensor_B</th>\n",
       "      <th>sensor_C</th>\n",
       "    </tr>\n",
       "  </thead>\n",
       "  <tbody>\n",
       "    <tr>\n",
       "      <th>0</th>\n",
       "      <td>0.0</td>\n",
       "      <td>-0.781257</td>\n",
       "      <td>-0.368624</td>\n",
       "      <td>-0.668834</td>\n",
       "    </tr>\n",
       "    <tr>\n",
       "      <th>1</th>\n",
       "      <td>0.0</td>\n",
       "      <td>0.152001</td>\n",
       "      <td>-1.032890</td>\n",
       "      <td>0.013465</td>\n",
       "    </tr>\n",
       "    <tr>\n",
       "      <th>2</th>\n",
       "      <td>0.0</td>\n",
       "      <td>-1.815408</td>\n",
       "      <td>-0.501477</td>\n",
       "      <td>-1.103025</td>\n",
       "    </tr>\n",
       "    <tr>\n",
       "      <th>3</th>\n",
       "      <td>0.0</td>\n",
       "      <td>-0.402909</td>\n",
       "      <td>2.288443</td>\n",
       "      <td>-0.792889</td>\n",
       "    </tr>\n",
       "    <tr>\n",
       "      <th>4</th>\n",
       "      <td>0.0</td>\n",
       "      <td>-1.109159</td>\n",
       "      <td>2.819857</td>\n",
       "      <td>-0.544780</td>\n",
       "    </tr>\n",
       "    <tr>\n",
       "      <th>...</th>\n",
       "      <td>...</td>\n",
       "      <td>...</td>\n",
       "      <td>...</td>\n",
       "      <td>...</td>\n",
       "    </tr>\n",
       "    <tr>\n",
       "      <th>1173755</th>\n",
       "      <td>8959.0</td>\n",
       "      <td>0.835882</td>\n",
       "      <td>-0.445766</td>\n",
       "      <td>0.740738</td>\n",
       "    </tr>\n",
       "    <tr>\n",
       "      <th>1173756</th>\n",
       "      <td>8959.0</td>\n",
       "      <td>1.476935</td>\n",
       "      <td>0.038585</td>\n",
       "      <td>1.458053</td>\n",
       "    </tr>\n",
       "    <tr>\n",
       "      <th>1173757</th>\n",
       "      <td>8959.0</td>\n",
       "      <td>0.983817</td>\n",
       "      <td>0.159673</td>\n",
       "      <td>1.350456</td>\n",
       "    </tr>\n",
       "    <tr>\n",
       "      <th>1173758</th>\n",
       "      <td>8959.0</td>\n",
       "      <td>1.329000</td>\n",
       "      <td>0.401848</td>\n",
       "      <td>0.633141</td>\n",
       "    </tr>\n",
       "    <tr>\n",
       "      <th>1173759</th>\n",
       "      <td>8959.0</td>\n",
       "      <td>1.378312</td>\n",
       "      <td>-0.203590</td>\n",
       "      <td>1.135262</td>\n",
       "    </tr>\n",
       "  </tbody>\n",
       "</table>\n",
       "<p>1173760 rows × 4 columns</p>\n",
       "</div>"
      ],
      "text/plain": [
       "             ID  sensor_A  sensor_B  sensor_C\n",
       "0           0.0 -0.781257 -0.368624 -0.668834\n",
       "1           0.0  0.152001 -1.032890  0.013465\n",
       "2           0.0 -1.815408 -0.501477 -1.103025\n",
       "3           0.0 -0.402909  2.288443 -0.792889\n",
       "4           0.0 -1.109159  2.819857 -0.544780\n",
       "...         ...       ...       ...       ...\n",
       "1173755  8959.0  0.835882 -0.445766  0.740738\n",
       "1173756  8959.0  1.476935  0.038585  1.458053\n",
       "1173757  8959.0  0.983817  0.159673  1.350456\n",
       "1173758  8959.0  1.329000  0.401848  0.633141\n",
       "1173759  8959.0  1.378312 -0.203590  1.135262\n",
       "\n",
       "[1173760 rows x 4 columns]"
      ]
     },
     "execution_count": 6,
     "metadata": {},
     "output_type": "execute_result"
    }
   ],
   "source": [
    "trn_df = pd.read_csv(file_path)\n",
    "trn_df"
   ]
  },
  {
   "cell_type": "code",
   "execution_count": 7,
   "id": "bc9f173b",
   "metadata": {},
   "outputs": [
    {
     "data": {
      "text/html": [
       "<div>\n",
       "<style scoped>\n",
       "    .dataframe tbody tr th:only-of-type {\n",
       "        vertical-align: middle;\n",
       "    }\n",
       "\n",
       "    .dataframe tbody tr th {\n",
       "        vertical-align: top;\n",
       "    }\n",
       "\n",
       "    .dataframe thead th {\n",
       "        text-align: right;\n",
       "    }\n",
       "</style>\n",
       "<table border=\"1\" class=\"dataframe\">\n",
       "  <thead>\n",
       "    <tr style=\"text-align: right;\">\n",
       "      <th></th>\n",
       "      <th>ID</th>\n",
       "      <th>sensor_A</th>\n",
       "      <th>sensor_B</th>\n",
       "      <th>sensor_C</th>\n",
       "    </tr>\n",
       "  </thead>\n",
       "  <tbody>\n",
       "    <tr>\n",
       "      <th>0</th>\n",
       "      <td>8960.0</td>\n",
       "      <td>0.980240</td>\n",
       "      <td>0.253716</td>\n",
       "      <td>-1.597266</td>\n",
       "    </tr>\n",
       "    <tr>\n",
       "      <th>1</th>\n",
       "      <td>8960.0</td>\n",
       "      <td>1.251848</td>\n",
       "      <td>-0.471842</td>\n",
       "      <td>-1.340238</td>\n",
       "    </tr>\n",
       "    <tr>\n",
       "      <th>2</th>\n",
       "      <td>8960.0</td>\n",
       "      <td>0.165421</td>\n",
       "      <td>-0.109063</td>\n",
       "      <td>-1.383076</td>\n",
       "    </tr>\n",
       "    <tr>\n",
       "      <th>3</th>\n",
       "      <td>8960.0</td>\n",
       "      <td>0.889705</td>\n",
       "      <td>1.342052</td>\n",
       "      <td>-1.982807</td>\n",
       "    </tr>\n",
       "    <tr>\n",
       "      <th>4</th>\n",
       "      <td>8960.0</td>\n",
       "      <td>0.391760</td>\n",
       "      <td>1.342052</td>\n",
       "      <td>-1.340238</td>\n",
       "    </tr>\n",
       "    <tr>\n",
       "      <th>...</th>\n",
       "      <td>...</td>\n",
       "      <td>...</td>\n",
       "      <td>...</td>\n",
       "      <td>...</td>\n",
       "    </tr>\n",
       "    <tr>\n",
       "      <th>293435</th>\n",
       "      <td>11199.0</td>\n",
       "      <td>1.610667</td>\n",
       "      <td>0.970033</td>\n",
       "      <td>2.037872</td>\n",
       "    </tr>\n",
       "    <tr>\n",
       "      <th>293436</th>\n",
       "      <td>11199.0</td>\n",
       "      <td>1.293793</td>\n",
       "      <td>-0.118303</td>\n",
       "      <td>1.438140</td>\n",
       "    </tr>\n",
       "    <tr>\n",
       "      <th>293437</th>\n",
       "      <td>11199.0</td>\n",
       "      <td>1.339060</td>\n",
       "      <td>-0.360156</td>\n",
       "      <td>1.480978</td>\n",
       "    </tr>\n",
       "    <tr>\n",
       "      <th>293438</th>\n",
       "      <td>11199.0</td>\n",
       "      <td>0.660044</td>\n",
       "      <td>-1.085713</td>\n",
       "      <td>1.695169</td>\n",
       "    </tr>\n",
       "    <tr>\n",
       "      <th>293439</th>\n",
       "      <td>11199.0</td>\n",
       "      <td>0.433705</td>\n",
       "      <td>-1.811271</td>\n",
       "      <td>1.395302</td>\n",
       "    </tr>\n",
       "  </tbody>\n",
       "</table>\n",
       "<p>293440 rows × 4 columns</p>\n",
       "</div>"
      ],
      "text/plain": [
       "             ID  sensor_A  sensor_B  sensor_C\n",
       "0        8960.0  0.980240  0.253716 -1.597266\n",
       "1        8960.0  1.251848 -0.471842 -1.340238\n",
       "2        8960.0  0.165421 -0.109063 -1.383076\n",
       "3        8960.0  0.889705  1.342052 -1.982807\n",
       "4        8960.0  0.391760  1.342052 -1.340238\n",
       "...         ...       ...       ...       ...\n",
       "293435  11199.0  1.610667  0.970033  2.037872\n",
       "293436  11199.0  1.293793 -0.118303  1.438140\n",
       "293437  11199.0  1.339060 -0.360156  1.480978\n",
       "293438  11199.0  0.660044 -1.085713  1.695169\n",
       "293439  11199.0  0.433705 -1.811271  1.395302\n",
       "\n",
       "[293440 rows x 4 columns]"
      ]
     },
     "execution_count": 7,
     "metadata": {},
     "output_type": "execute_result"
    }
   ],
   "source": [
    "tst_df = pd.read_csv(file_path2)\n",
    "tst_df"
   ]
  },
  {
   "cell_type": "code",
   "execution_count": 8,
   "id": "ae360746",
   "metadata": {},
   "outputs": [
    {
     "data": {
      "text/html": [
       "<div>\n",
       "<style scoped>\n",
       "    .dataframe tbody tr th:only-of-type {\n",
       "        vertical-align: middle;\n",
       "    }\n",
       "\n",
       "    .dataframe tbody tr th {\n",
       "        vertical-align: top;\n",
       "    }\n",
       "\n",
       "    .dataframe thead th {\n",
       "        text-align: right;\n",
       "    }\n",
       "</style>\n",
       "<table border=\"1\" class=\"dataframe\">\n",
       "  <thead>\n",
       "    <tr style=\"text-align: right;\">\n",
       "      <th></th>\n",
       "      <th>ID</th>\n",
       "      <th>type</th>\n",
       "    </tr>\n",
       "  </thead>\n",
       "  <tbody>\n",
       "    <tr>\n",
       "      <th>0</th>\n",
       "      <td>0</td>\n",
       "      <td>2</td>\n",
       "    </tr>\n",
       "    <tr>\n",
       "      <th>1</th>\n",
       "      <td>1</td>\n",
       "      <td>2</td>\n",
       "    </tr>\n",
       "    <tr>\n",
       "      <th>2</th>\n",
       "      <td>2</td>\n",
       "      <td>2</td>\n",
       "    </tr>\n",
       "    <tr>\n",
       "      <th>3</th>\n",
       "      <td>3</td>\n",
       "      <td>3</td>\n",
       "    </tr>\n",
       "    <tr>\n",
       "      <th>4</th>\n",
       "      <td>4</td>\n",
       "      <td>4</td>\n",
       "    </tr>\n",
       "    <tr>\n",
       "      <th>...</th>\n",
       "      <td>...</td>\n",
       "      <td>...</td>\n",
       "    </tr>\n",
       "    <tr>\n",
       "      <th>8955</th>\n",
       "      <td>8955</td>\n",
       "      <td>1</td>\n",
       "    </tr>\n",
       "    <tr>\n",
       "      <th>8956</th>\n",
       "      <td>8956</td>\n",
       "      <td>4</td>\n",
       "    </tr>\n",
       "    <tr>\n",
       "      <th>8957</th>\n",
       "      <td>8957</td>\n",
       "      <td>4</td>\n",
       "    </tr>\n",
       "    <tr>\n",
       "      <th>8958</th>\n",
       "      <td>8958</td>\n",
       "      <td>2</td>\n",
       "    </tr>\n",
       "    <tr>\n",
       "      <th>8959</th>\n",
       "      <td>8959</td>\n",
       "      <td>4</td>\n",
       "    </tr>\n",
       "  </tbody>\n",
       "</table>\n",
       "<p>8960 rows × 2 columns</p>\n",
       "</div>"
      ],
      "text/plain": [
       "        ID  type\n",
       "0        0     2\n",
       "1        1     2\n",
       "2        2     2\n",
       "3        3     3\n",
       "4        4     4\n",
       "...    ...   ...\n",
       "8955  8955     1\n",
       "8956  8956     4\n",
       "8957  8957     4\n",
       "8958  8958     2\n",
       "8959  8959     4\n",
       "\n",
       "[8960 rows x 2 columns]"
      ]
     },
     "execution_count": 8,
     "metadata": {},
     "output_type": "execute_result"
    }
   ],
   "source": [
    "lab_df = pd.read_csv(file_path3)\n",
    "lab_df"
   ]
  },
  {
   "cell_type": "code",
   "execution_count": 9,
   "id": "ec8b74d5",
   "metadata": {},
   "outputs": [
    {
     "name": "stdout",
     "output_type": "stream",
     "text": [
      "(1173760, 4)\n"
     ]
    }
   ],
   "source": [
    "print(trn_df.shape)"
   ]
  },
  {
   "cell_type": "code",
   "execution_count": 10,
   "id": "458129ab",
   "metadata": {},
   "outputs": [
    {
     "data": {
      "text/html": [
       "<div>\n",
       "<style scoped>\n",
       "    .dataframe tbody tr th:only-of-type {\n",
       "        vertical-align: middle;\n",
       "    }\n",
       "\n",
       "    .dataframe tbody tr th {\n",
       "        vertical-align: top;\n",
       "    }\n",
       "\n",
       "    .dataframe thead th {\n",
       "        text-align: right;\n",
       "    }\n",
       "</style>\n",
       "<table border=\"1\" class=\"dataframe\">\n",
       "  <thead>\n",
       "    <tr style=\"text-align: right;\">\n",
       "      <th></th>\n",
       "      <th>ID</th>\n",
       "      <th>sensor_A</th>\n",
       "      <th>sensor_B</th>\n",
       "      <th>sensor_C</th>\n",
       "    </tr>\n",
       "  </thead>\n",
       "  <tbody>\n",
       "    <tr>\n",
       "      <th>count</th>\n",
       "      <td>1.173760e+06</td>\n",
       "      <td>1.173760e+06</td>\n",
       "      <td>1.173760e+06</td>\n",
       "      <td>1.173760e+06</td>\n",
       "    </tr>\n",
       "    <tr>\n",
       "      <th>mean</th>\n",
       "      <td>4.479500e+03</td>\n",
       "      <td>-3.277743e-04</td>\n",
       "      <td>-3.277743e-04</td>\n",
       "      <td>-3.277744e-04</td>\n",
       "    </tr>\n",
       "    <tr>\n",
       "      <th>std</th>\n",
       "      <td>2.586530e+03</td>\n",
       "      <td>1.000572e+00</td>\n",
       "      <td>1.000597e+00</td>\n",
       "      <td>1.000605e+00</td>\n",
       "    </tr>\n",
       "    <tr>\n",
       "      <th>min</th>\n",
       "      <td>0.000000e+00</td>\n",
       "      <td>-3.619561e+00</td>\n",
       "      <td>-5.896842e+00</td>\n",
       "      <td>-4.385735e+00</td>\n",
       "    </tr>\n",
       "    <tr>\n",
       "      <th>25%</th>\n",
       "      <td>2.239750e+03</td>\n",
       "      <td>-8.175240e-01</td>\n",
       "      <td>-6.335718e-01</td>\n",
       "      <td>-7.034006e-01</td>\n",
       "    </tr>\n",
       "    <tr>\n",
       "      <th>50%</th>\n",
       "      <td>4.479500e+03</td>\n",
       "      <td>-9.079777e-02</td>\n",
       "      <td>4.057315e-02</td>\n",
       "      <td>2.145573e-02</td>\n",
       "    </tr>\n",
       "    <tr>\n",
       "      <th>75%</th>\n",
       "      <td>6.719250e+03</td>\n",
       "      <td>8.063138e-01</td>\n",
       "      <td>6.697789e-01</td>\n",
       "      <td>7.194825e-01</td>\n",
       "    </tr>\n",
       "    <tr>\n",
       "      <th>max</th>\n",
       "      <td>8.959000e+03</td>\n",
       "      <td>3.680108e+00</td>\n",
       "      <td>4.599791e+00</td>\n",
       "      <td>4.074743e+00</td>\n",
       "    </tr>\n",
       "  </tbody>\n",
       "</table>\n",
       "</div>"
      ],
      "text/plain": [
       "                 ID      sensor_A      sensor_B      sensor_C\n",
       "count  1.173760e+06  1.173760e+06  1.173760e+06  1.173760e+06\n",
       "mean   4.479500e+03 -3.277743e-04 -3.277743e-04 -3.277744e-04\n",
       "std    2.586530e+03  1.000572e+00  1.000597e+00  1.000605e+00\n",
       "min    0.000000e+00 -3.619561e+00 -5.896842e+00 -4.385735e+00\n",
       "25%    2.239750e+03 -8.175240e-01 -6.335718e-01 -7.034006e-01\n",
       "50%    4.479500e+03 -9.079777e-02  4.057315e-02  2.145573e-02\n",
       "75%    6.719250e+03  8.063138e-01  6.697789e-01  7.194825e-01\n",
       "max    8.959000e+03  3.680108e+00  4.599791e+00  4.074743e+00"
      ]
     },
     "execution_count": 10,
     "metadata": {},
     "output_type": "execute_result"
    }
   ],
   "source": [
    "trn_df.describe()"
   ]
  },
  {
   "cell_type": "code",
   "execution_count": 11,
   "id": "c4c72a78",
   "metadata": {},
   "outputs": [],
   "source": [
    "# scaler=MinMaxScaler()\n",
    "\n",
    "# trn_df=scaler.fit_transform(trn_df)"
   ]
  },
  {
   "cell_type": "code",
   "execution_count": 12,
   "id": "23dda44f",
   "metadata": {},
   "outputs": [],
   "source": [
    "X_trn = trn_df.iloc[:,:-1]\n",
    "Y_trn = trn_df.iloc[:,-1]\n",
    "\n",
    "X_tst = tst_df.iloc[:,:-1]"
   ]
  },
  {
   "cell_type": "code",
   "execution_count": 13,
   "id": "9fde0501",
   "metadata": {},
   "outputs": [
    {
     "data": {
      "text/plain": [
       "((1173760, 3), (1173760,))"
      ]
     },
     "execution_count": 13,
     "metadata": {},
     "output_type": "execute_result"
    }
   ],
   "source": [
    "X_trn.shape, Y_trn.shape"
   ]
  },
  {
   "cell_type": "code",
   "execution_count": 14,
   "id": "b6a6ffb0",
   "metadata": {},
   "outputs": [
    {
     "data": {
      "text/plain": [
       "(293440, 3)"
      ]
     },
     "execution_count": 14,
     "metadata": {},
     "output_type": "execute_result"
    }
   ],
   "source": [
    "X_tst.shape"
   ]
  },
  {
   "cell_type": "code",
   "execution_count": 15,
   "id": "64df6149",
   "metadata": {},
   "outputs": [],
   "source": [
    "from sklearn.ensemble import RandomForestRegressor\n",
    "from sklearn.metrics import mean_squared_error\n",
    "from sklearn.model_selection import cross_val_score, train_test_split"
   ]
  },
  {
   "cell_type": "code",
   "execution_count": 16,
   "id": "020f478d",
   "metadata": {},
   "outputs": [],
   "source": [
    "model = RandomForestRegressor(n_estimators=200)"
   ]
  },
  {
   "cell_type": "code",
   "execution_count": 17,
   "id": "0b0d0ad0",
   "metadata": {},
   "outputs": [],
   "source": [
    "X_train, X_test, y_train, y_test = train_test_split(X_trn, Y_trn, test_size=0.1, random_state=100)"
   ]
  },
  {
   "cell_type": "code",
   "execution_count": 18,
   "id": "bd5a4842",
   "metadata": {},
   "outputs": [
    {
     "data": {
      "text/plain": [
       "RandomForestRegressor(n_estimators=200)"
      ]
     },
     "execution_count": 18,
     "metadata": {},
     "output_type": "execute_result"
    }
   ],
   "source": [
    "model.fit(X_train, y_train)"
   ]
  },
  {
   "cell_type": "code",
   "execution_count": 19,
   "id": "6b370d7a",
   "metadata": {},
   "outputs": [],
   "source": [
    "y_predict = model.predict(X_test)"
   ]
  },
  {
   "cell_type": "code",
   "execution_count": 25,
   "id": "223fd35f",
   "metadata": {},
   "outputs": [],
   "source": [
    "# from sklearn.metrics import f1_score\n",
    "# # pred = pipe.predict(X_test)\n",
    "# f1_score(y_test, y_predict)"
   ]
  },
  {
   "cell_type": "code",
   "execution_count": 26,
   "id": "6f7b60bf",
   "metadata": {},
   "outputs": [
    {
     "data": {
      "text/plain": [
       "0.9875512824622718"
      ]
     },
     "execution_count": 26,
     "metadata": {},
     "output_type": "execute_result"
    }
   ],
   "source": [
    "mean_squared_error(y_test, y_predict, squared=False)"
   ]
  },
  {
   "cell_type": "code",
   "execution_count": 27,
   "id": "5ac9d856",
   "metadata": {},
   "outputs": [],
   "source": [
    "test_prediction = model.predict(X_tst)"
   ]
  },
  {
   "cell_type": "code",
   "execution_count": null,
   "id": "aaad8d40",
   "metadata": {},
   "outputs": [],
   "source": [
    "# k = []\n",
    "# for i in range(2240):\n",
    "#     k.append(np.median)"
   ]
  },
  {
   "cell_type": "code",
   "execution_count": 28,
   "id": "48666d57",
   "metadata": {},
   "outputs": [],
   "source": [
    "datapath = 'E:/중급/'"
   ]
  },
  {
   "cell_type": "code",
   "execution_count": 29,
   "id": "a6b9e0e4",
   "metadata": {},
   "outputs": [],
   "source": [
    "sample = os.path.join(datapath, 'answer_sample.csv')"
   ]
  },
  {
   "cell_type": "code",
   "execution_count": 30,
   "id": "00b68101",
   "metadata": {},
   "outputs": [],
   "source": [
    "sample_submission = pd.read_csv(sample)"
   ]
  },
  {
   "cell_type": "code",
   "execution_count": 31,
   "id": "404d30f6",
   "metadata": {},
   "outputs": [
    {
     "data": {
      "text/html": [
       "<div>\n",
       "<style scoped>\n",
       "    .dataframe tbody tr th:only-of-type {\n",
       "        vertical-align: middle;\n",
       "    }\n",
       "\n",
       "    .dataframe tbody tr th {\n",
       "        vertical-align: top;\n",
       "    }\n",
       "\n",
       "    .dataframe thead th {\n",
       "        text-align: right;\n",
       "    }\n",
       "</style>\n",
       "<table border=\"1\" class=\"dataframe\">\n",
       "  <thead>\n",
       "    <tr style=\"text-align: right;\">\n",
       "      <th></th>\n",
       "      <th>ID</th>\n",
       "      <th>type</th>\n",
       "    </tr>\n",
       "  </thead>\n",
       "  <tbody>\n",
       "    <tr>\n",
       "      <th>0</th>\n",
       "      <td>8960</td>\n",
       "      <td>0</td>\n",
       "    </tr>\n",
       "    <tr>\n",
       "      <th>1</th>\n",
       "      <td>8961</td>\n",
       "      <td>0</td>\n",
       "    </tr>\n",
       "    <tr>\n",
       "      <th>2</th>\n",
       "      <td>8962</td>\n",
       "      <td>0</td>\n",
       "    </tr>\n",
       "    <tr>\n",
       "      <th>3</th>\n",
       "      <td>8963</td>\n",
       "      <td>0</td>\n",
       "    </tr>\n",
       "    <tr>\n",
       "      <th>4</th>\n",
       "      <td>8964</td>\n",
       "      <td>0</td>\n",
       "    </tr>\n",
       "    <tr>\n",
       "      <th>...</th>\n",
       "      <td>...</td>\n",
       "      <td>...</td>\n",
       "    </tr>\n",
       "    <tr>\n",
       "      <th>2235</th>\n",
       "      <td>11195</td>\n",
       "      <td>0</td>\n",
       "    </tr>\n",
       "    <tr>\n",
       "      <th>2236</th>\n",
       "      <td>11196</td>\n",
       "      <td>0</td>\n",
       "    </tr>\n",
       "    <tr>\n",
       "      <th>2237</th>\n",
       "      <td>11197</td>\n",
       "      <td>0</td>\n",
       "    </tr>\n",
       "    <tr>\n",
       "      <th>2238</th>\n",
       "      <td>11198</td>\n",
       "      <td>0</td>\n",
       "    </tr>\n",
       "    <tr>\n",
       "      <th>2239</th>\n",
       "      <td>11199</td>\n",
       "      <td>0</td>\n",
       "    </tr>\n",
       "  </tbody>\n",
       "</table>\n",
       "<p>2240 rows × 2 columns</p>\n",
       "</div>"
      ],
      "text/plain": [
       "         ID  type\n",
       "0      8960     0\n",
       "1      8961     0\n",
       "2      8962     0\n",
       "3      8963     0\n",
       "4      8964     0\n",
       "...     ...   ...\n",
       "2235  11195     0\n",
       "2236  11196     0\n",
       "2237  11197     0\n",
       "2238  11198     0\n",
       "2239  11199     0\n",
       "\n",
       "[2240 rows x 2 columns]"
      ]
     },
     "execution_count": 31,
     "metadata": {},
     "output_type": "execute_result"
    }
   ],
   "source": [
    "sample_submission"
   ]
  },
  {
   "cell_type": "code",
   "execution_count": 35,
   "id": "13c23e68",
   "metadata": {},
   "outputs": [
    {
     "ename": "ValueError",
     "evalue": "Length of values (293440) does not match length of index (2240)",
     "output_type": "error",
     "traceback": [
      "\u001b[1;31m---------------------------------------------------------------------------\u001b[0m",
      "\u001b[1;31mValueError\u001b[0m                                Traceback (most recent call last)",
      "\u001b[1;32m~\\AppData\\Local\\Temp/ipykernel_25388/795229891.py\u001b[0m in \u001b[0;36m<module>\u001b[1;34m\u001b[0m\n\u001b[1;32m----> 1\u001b[1;33m \u001b[0msample_submission\u001b[0m\u001b[1;33m[\u001b[0m\u001b[1;34m'type'\u001b[0m\u001b[1;33m]\u001b[0m \u001b[1;33m=\u001b[0m \u001b[0mtest_prediction\u001b[0m\u001b[1;33m/\u001b[0m\u001b[1;36m131\u001b[0m\u001b[1;33m\u001b[0m\u001b[1;33m\u001b[0m\u001b[0m\n\u001b[0m",
      "\u001b[1;32m~\\anaconda3\\envs\\seun\\lib\\site-packages\\pandas\\core\\frame.py\u001b[0m in \u001b[0;36m__setitem__\u001b[1;34m(self, key, value)\u001b[0m\n\u001b[0;32m   3610\u001b[0m         \u001b[1;32melse\u001b[0m\u001b[1;33m:\u001b[0m\u001b[1;33m\u001b[0m\u001b[1;33m\u001b[0m\u001b[0m\n\u001b[0;32m   3611\u001b[0m             \u001b[1;31m# set column\u001b[0m\u001b[1;33m\u001b[0m\u001b[1;33m\u001b[0m\u001b[1;33m\u001b[0m\u001b[0m\n\u001b[1;32m-> 3612\u001b[1;33m             \u001b[0mself\u001b[0m\u001b[1;33m.\u001b[0m\u001b[0m_set_item\u001b[0m\u001b[1;33m(\u001b[0m\u001b[0mkey\u001b[0m\u001b[1;33m,\u001b[0m \u001b[0mvalue\u001b[0m\u001b[1;33m)\u001b[0m\u001b[1;33m\u001b[0m\u001b[1;33m\u001b[0m\u001b[0m\n\u001b[0m\u001b[0;32m   3613\u001b[0m \u001b[1;33m\u001b[0m\u001b[0m\n\u001b[0;32m   3614\u001b[0m     \u001b[1;32mdef\u001b[0m \u001b[0m_setitem_slice\u001b[0m\u001b[1;33m(\u001b[0m\u001b[0mself\u001b[0m\u001b[1;33m,\u001b[0m \u001b[0mkey\u001b[0m\u001b[1;33m:\u001b[0m \u001b[0mslice\u001b[0m\u001b[1;33m,\u001b[0m \u001b[0mvalue\u001b[0m\u001b[1;33m)\u001b[0m\u001b[1;33m:\u001b[0m\u001b[1;33m\u001b[0m\u001b[1;33m\u001b[0m\u001b[0m\n",
      "\u001b[1;32m~\\anaconda3\\envs\\seun\\lib\\site-packages\\pandas\\core\\frame.py\u001b[0m in \u001b[0;36m_set_item\u001b[1;34m(self, key, value)\u001b[0m\n\u001b[0;32m   3782\u001b[0m         \u001b[0mensure\u001b[0m \u001b[0mhomogeneity\u001b[0m\u001b[1;33m.\u001b[0m\u001b[1;33m\u001b[0m\u001b[1;33m\u001b[0m\u001b[0m\n\u001b[0;32m   3783\u001b[0m         \"\"\"\n\u001b[1;32m-> 3784\u001b[1;33m         \u001b[0mvalue\u001b[0m \u001b[1;33m=\u001b[0m \u001b[0mself\u001b[0m\u001b[1;33m.\u001b[0m\u001b[0m_sanitize_column\u001b[0m\u001b[1;33m(\u001b[0m\u001b[0mvalue\u001b[0m\u001b[1;33m)\u001b[0m\u001b[1;33m\u001b[0m\u001b[1;33m\u001b[0m\u001b[0m\n\u001b[0m\u001b[0;32m   3785\u001b[0m \u001b[1;33m\u001b[0m\u001b[0m\n\u001b[0;32m   3786\u001b[0m         if (\n",
      "\u001b[1;32m~\\anaconda3\\envs\\seun\\lib\\site-packages\\pandas\\core\\frame.py\u001b[0m in \u001b[0;36m_sanitize_column\u001b[1;34m(self, value)\u001b[0m\n\u001b[0;32m   4507\u001b[0m \u001b[1;33m\u001b[0m\u001b[0m\n\u001b[0;32m   4508\u001b[0m         \u001b[1;32mif\u001b[0m \u001b[0mis_list_like\u001b[0m\u001b[1;33m(\u001b[0m\u001b[0mvalue\u001b[0m\u001b[1;33m)\u001b[0m\u001b[1;33m:\u001b[0m\u001b[1;33m\u001b[0m\u001b[1;33m\u001b[0m\u001b[0m\n\u001b[1;32m-> 4509\u001b[1;33m             \u001b[0mcom\u001b[0m\u001b[1;33m.\u001b[0m\u001b[0mrequire_length_match\u001b[0m\u001b[1;33m(\u001b[0m\u001b[0mvalue\u001b[0m\u001b[1;33m,\u001b[0m \u001b[0mself\u001b[0m\u001b[1;33m.\u001b[0m\u001b[0mindex\u001b[0m\u001b[1;33m)\u001b[0m\u001b[1;33m\u001b[0m\u001b[1;33m\u001b[0m\u001b[0m\n\u001b[0m\u001b[0;32m   4510\u001b[0m         \u001b[1;32mreturn\u001b[0m \u001b[0msanitize_array\u001b[0m\u001b[1;33m(\u001b[0m\u001b[0mvalue\u001b[0m\u001b[1;33m,\u001b[0m \u001b[0mself\u001b[0m\u001b[1;33m.\u001b[0m\u001b[0mindex\u001b[0m\u001b[1;33m,\u001b[0m \u001b[0mcopy\u001b[0m\u001b[1;33m=\u001b[0m\u001b[1;32mTrue\u001b[0m\u001b[1;33m,\u001b[0m \u001b[0mallow_2d\u001b[0m\u001b[1;33m=\u001b[0m\u001b[1;32mTrue\u001b[0m\u001b[1;33m)\u001b[0m\u001b[1;33m\u001b[0m\u001b[1;33m\u001b[0m\u001b[0m\n\u001b[0;32m   4511\u001b[0m \u001b[1;33m\u001b[0m\u001b[0m\n",
      "\u001b[1;32m~\\anaconda3\\envs\\seun\\lib\\site-packages\\pandas\\core\\common.py\u001b[0m in \u001b[0;36mrequire_length_match\u001b[1;34m(data, index)\u001b[0m\n\u001b[0;32m    530\u001b[0m     \u001b[1;32mif\u001b[0m \u001b[0mlen\u001b[0m\u001b[1;33m(\u001b[0m\u001b[0mdata\u001b[0m\u001b[1;33m)\u001b[0m \u001b[1;33m!=\u001b[0m \u001b[0mlen\u001b[0m\u001b[1;33m(\u001b[0m\u001b[0mindex\u001b[0m\u001b[1;33m)\u001b[0m\u001b[1;33m:\u001b[0m\u001b[1;33m\u001b[0m\u001b[1;33m\u001b[0m\u001b[0m\n\u001b[0;32m    531\u001b[0m         raise ValueError(\n\u001b[1;32m--> 532\u001b[1;33m             \u001b[1;34m\"Length of values \"\u001b[0m\u001b[1;33m\u001b[0m\u001b[1;33m\u001b[0m\u001b[0m\n\u001b[0m\u001b[0;32m    533\u001b[0m             \u001b[1;34mf\"({len(data)}) \"\u001b[0m\u001b[1;33m\u001b[0m\u001b[1;33m\u001b[0m\u001b[0m\n\u001b[0;32m    534\u001b[0m             \u001b[1;34m\"does not match length of index \"\u001b[0m\u001b[1;33m\u001b[0m\u001b[1;33m\u001b[0m\u001b[0m\n",
      "\u001b[1;31mValueError\u001b[0m: Length of values (293440) does not match length of index (2240)"
     ]
    }
   ],
   "source": [
    "sample_submission['type'] = test_prediction"
   ]
  },
  {
   "cell_type": "code",
   "execution_count": null,
   "id": "fce09abe",
   "metadata": {},
   "outputs": [],
   "source": [
    "sample_submission.to_csv('./test_submission.csv', index=False)"
   ]
  }
 ],
 "metadata": {
  "kernelspec": {
   "display_name": "sseun",
   "language": "python",
   "name": "seun"
  },
  "language_info": {
   "codemirror_mode": {
    "name": "ipython",
    "version": 3
   },
   "file_extension": ".py",
   "mimetype": "text/x-python",
   "name": "python",
   "nbconvert_exporter": "python",
   "pygments_lexer": "ipython3",
   "version": "3.7.10"
  }
 },
 "nbformat": 4,
 "nbformat_minor": 5
}
