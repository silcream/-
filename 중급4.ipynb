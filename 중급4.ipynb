{
 "cells": [
  {
   "cell_type": "code",
   "execution_count": 1,
   "metadata": {
    "collapsed": true
   },
   "outputs": [],
   "source": [
    "import warnings\n",
    "warnings.filterwarnings(action='ignore')"
   ]
  },
  {
   "cell_type": "code",
   "execution_count": 2,
   "metadata": {
    "collapsed": true
   },
   "outputs": [],
   "source": [
    "## 데이터 전처리\n",
    "\n",
    "import pandas as pd\n",
    "import numpy as np\n",
    "import sys\n",
    "import pickle\n",
    "\n",
    "## 데이터 시각화\n",
    "import seaborn as sb\n",
    "import matplotlib.pyplot as plt\n",
    "from matplotlib import font_manager, rc\n",
    "## 딥러닝 모델링\n",
    "\n",
    "from sklearn import metrics\n",
    "from sklearn.metrics import accuracy_score\n",
    "from sklearn.metrics import classification_report, confusion_matrix\n",
    "from sklearn import tree\n",
    "from sklearn.ensemble import RandomForestClassifier\n",
    "from sklearn.linear_model import LogisticRegression\n",
    "from sklearn.ensemble import RandomForestClassifier\n",
    "from sklearn.preprocessing import MinMaxScaler\n",
    "from sklearn.preprocessing import StandardScaler\n",
    "from sklearn.model_selection import train_test_split\n",
    "from scipy.stats import skew, kurtosis\n",
    "import joblib\n",
    "import itertools\n",
    "import os\n",
    "import warnings\n",
    "np.set_printoptions(threshold=sys.maxsize)\n",
    "warnings.filterwarnings(action='ignore')"
   ]
  },
  {
   "cell_type": "code",
   "execution_count": 3,
   "metadata": {
    "collapsed": true
   },
   "outputs": [],
   "source": [
    "file_path = 'C:/Users/SPAI/중급/train_data.csv'\n",
    "file_path2 = 'C:/Users/SPAI/중급/test_data.csv'\n",
    "file_path3 = 'C:/Users/SPAI/중급/train_label.csv'\n",
    "datapath = 'C:/Users/SPAI/중급/'"
   ]
  },
  {
   "cell_type": "code",
   "execution_count": 4,
   "metadata": {
    "collapsed": true
   },
   "outputs": [],
   "source": [
    "trn_df = pd.read_csv(file_path, engine='python')\n",
    "tst_df = pd.read_csv(file_path2, engine='python')\n",
    "lab_df = pd.read_csv(file_path3, engine='python')\n",
    "lab_df = lab_df['type']"
   ]
  },
  {
   "cell_type": "code",
   "execution_count": 5,
   "metadata": {
    "collapsed": false
   },
   "outputs": [
    {
     "data": {
      "text/plain": [
       "0       2\n",
       "1       2\n",
       "2       2\n",
       "3       3\n",
       "4       4\n",
       "       ..\n",
       "8955    1\n",
       "8956    4\n",
       "8957    4\n",
       "8958    2\n",
       "8959    4\n",
       "Name: type, Length: 8960, dtype: int64"
      ]
     },
     "execution_count": 5,
     "metadata": {},
     "output_type": "execute_result"
    }
   ],
   "source": [
    "lab_df"
   ]
  },
  {
   "cell_type": "code",
   "execution_count": 6,
   "metadata": {
    "collapsed": true
   },
   "outputs": [],
   "source": [
    "dfmn = trn_df.groupby('ID').mean()\n",
    "dfst = trn_df.groupby('ID').std()\n",
    "dfmi = trn_df.groupby('ID').min()\n",
    "dfma = trn_df.groupby('ID').max()\n",
    "dfsk = trn_df.groupby('ID').skew() #왜도"
   ]
  },
  {
   "cell_type": "code",
   "execution_count": 7,
   "metadata": {
    "collapsed": true
   },
   "outputs": [],
   "source": [
    "k = []\n",
    "t = []\n",
    "for i in range(8960):\n",
    "    k = trn_df[i:i+130]\n",
    "    p = k['sensor_A'].kurtosis()\n",
    "    t.append(p)"
   ]
  },
  {
   "cell_type": "code",
   "execution_count": 8,
   "metadata": {
    "collapsed": true
   },
   "outputs": [],
   "source": [
    "k1 = []\n",
    "t1 = []\n",
    "for i in range(8960):\n",
    "    k1 = trn_df[i:i+130]\n",
    "    p1 = k1['sensor_B'].kurtosis()\n",
    "    t1.append(p1)"
   ]
  },
  {
   "cell_type": "code",
   "execution_count": 9,
   "metadata": {
    "collapsed": true
   },
   "outputs": [],
   "source": [
    "k2 = []\n",
    "t2 = []\n",
    "for i in range(8960):\n",
    "    k2 = trn_df[i:i+130]\n",
    "    p2 = k2['sensor_C'].kurtosis()\n",
    "    t2.append(p2)"
   ]
  },
  {
   "cell_type": "code",
   "execution_count": 10,
   "metadata": {
    "collapsed": true
   },
   "outputs": [],
   "source": [
    "dfku = pd.DataFrame([t])\n",
    "dfku = dfku.T"
   ]
  },
  {
   "cell_type": "code",
   "execution_count": 11,
   "metadata": {
    "collapsed": true
   },
   "outputs": [],
   "source": [
    "dfku1 = pd.DataFrame([t1])\n",
    "dfku1 = dfku1.T"
   ]
  },
  {
   "cell_type": "code",
   "execution_count": 12,
   "metadata": {
    "collapsed": true
   },
   "outputs": [],
   "source": [
    "dfku2 = pd.DataFrame([t2])\n",
    "dfku2 = dfku2.T"
   ]
  },
  {
   "cell_type": "code",
   "execution_count": 13,
   "metadata": {
    "collapsed": false
   },
   "outputs": [
    {
     "data": {
      "text/html": [
       "<div>\n",
       "<style scoped>\n",
       "    .dataframe tbody tr th:only-of-type {\n",
       "        vertical-align: middle;\n",
       "    }\n",
       "\n",
       "    .dataframe tbody tr th {\n",
       "        vertical-align: top;\n",
       "    }\n",
       "\n",
       "    .dataframe thead th {\n",
       "        text-align: right;\n",
       "    }\n",
       "</style>\n",
       "<table border=\"1\" class=\"dataframe\">\n",
       "  <thead>\n",
       "    <tr style=\"text-align: right;\">\n",
       "      <th></th>\n",
       "      <th>sensor_A</th>\n",
       "      <th>sensor_B</th>\n",
       "      <th>sensor_C</th>\n",
       "      <th>sensor_A</th>\n",
       "      <th>sensor_B</th>\n",
       "      <th>sensor_C</th>\n",
       "      <th>sensor_A</th>\n",
       "      <th>sensor_B</th>\n",
       "      <th>sensor_C</th>\n",
       "      <th>sensor_A</th>\n",
       "      <th>sensor_B</th>\n",
       "      <th>sensor_C</th>\n",
       "      <th>sensor_A</th>\n",
       "      <th>sensor_B</th>\n",
       "      <th>sensor_C</th>\n",
       "      <th>0</th>\n",
       "      <th>0</th>\n",
       "      <th>0</th>\n",
       "    </tr>\n",
       "  </thead>\n",
       "  <tbody>\n",
       "    <tr>\n",
       "      <th>0.0</th>\n",
       "      <td>-0.062685</td>\n",
       "      <td>0.014724</td>\n",
       "      <td>-0.056515</td>\n",
       "      <td>0.988268</td>\n",
       "      <td>1.210087</td>\n",
       "      <td>0.980058</td>\n",
       "      <td>-1.815408</td>\n",
       "      <td>-2.627131</td>\n",
       "      <td>-2.768976</td>\n",
       "      <td>2.245526</td>\n",
       "      <td>2.952710</td>\n",
       "      <td>2.432525</td>\n",
       "      <td>0.521596</td>\n",
       "      <td>0.175776</td>\n",
       "      <td>-0.165921</td>\n",
       "      <td>-0.858887</td>\n",
       "      <td>-0.412198</td>\n",
       "      <td>-0.232947</td>\n",
       "    </tr>\n",
       "    <tr>\n",
       "      <th>1.0</th>\n",
       "      <td>-0.153611</td>\n",
       "      <td>0.014196</td>\n",
       "      <td>-0.078285</td>\n",
       "      <td>0.900904</td>\n",
       "      <td>0.973971</td>\n",
       "      <td>0.908227</td>\n",
       "      <td>-1.493521</td>\n",
       "      <td>-2.378179</td>\n",
       "      <td>-2.310316</td>\n",
       "      <td>1.911610</td>\n",
       "      <td>2.803103</td>\n",
       "      <td>2.155641</td>\n",
       "      <td>0.564537</td>\n",
       "      <td>0.326462</td>\n",
       "      <td>0.000843</td>\n",
       "      <td>-0.832779</td>\n",
       "      <td>-0.420513</td>\n",
       "      <td>-0.229271</td>\n",
       "    </tr>\n",
       "    <tr>\n",
       "      <th>2.0</th>\n",
       "      <td>0.051289</td>\n",
       "      <td>0.043324</td>\n",
       "      <td>-0.057817</td>\n",
       "      <td>1.036681</td>\n",
       "      <td>1.036154</td>\n",
       "      <td>1.088889</td>\n",
       "      <td>-1.752650</td>\n",
       "      <td>-2.369333</td>\n",
       "      <td>-3.462210</td>\n",
       "      <td>2.308284</td>\n",
       "      <td>2.413387</td>\n",
       "      <td>1.934155</td>\n",
       "      <td>0.295918</td>\n",
       "      <td>0.012605</td>\n",
       "      <td>-0.666971</td>\n",
       "      <td>-0.856089</td>\n",
       "      <td>-0.434534</td>\n",
       "      <td>-0.247021</td>\n",
       "    </tr>\n",
       "    <tr>\n",
       "      <th>3.0</th>\n",
       "      <td>0.063667</td>\n",
       "      <td>0.018329</td>\n",
       "      <td>-0.067171</td>\n",
       "      <td>0.893419</td>\n",
       "      <td>1.221790</td>\n",
       "      <td>1.083317</td>\n",
       "      <td>-1.581868</td>\n",
       "      <td>-3.308527</td>\n",
       "      <td>-2.258773</td>\n",
       "      <td>1.949018</td>\n",
       "      <td>2.616859</td>\n",
       "      <td>2.710428</td>\n",
       "      <td>0.249805</td>\n",
       "      <td>-0.296168</td>\n",
       "      <td>0.311712</td>\n",
       "      <td>-0.871426</td>\n",
       "      <td>-0.482056</td>\n",
       "      <td>-0.212623</td>\n",
       "    </tr>\n",
       "    <tr>\n",
       "      <th>4.0</th>\n",
       "      <td>-0.196459</td>\n",
       "      <td>-0.052498</td>\n",
       "      <td>-0.121069</td>\n",
       "      <td>0.948502</td>\n",
       "      <td>0.745984</td>\n",
       "      <td>1.043245</td>\n",
       "      <td>-1.786668</td>\n",
       "      <td>-2.697356</td>\n",
       "      <td>-2.426879</td>\n",
       "      <td>1.936368</td>\n",
       "      <td>2.025064</td>\n",
       "      <td>1.805276</td>\n",
       "      <td>0.506458</td>\n",
       "      <td>-0.258511</td>\n",
       "      <td>-0.092705</td>\n",
       "      <td>-0.883867</td>\n",
       "      <td>-0.431891</td>\n",
       "      <td>-0.221324</td>\n",
       "    </tr>\n",
       "    <tr>\n",
       "      <th>...</th>\n",
       "      <td>...</td>\n",
       "      <td>...</td>\n",
       "      <td>...</td>\n",
       "      <td>...</td>\n",
       "      <td>...</td>\n",
       "      <td>...</td>\n",
       "      <td>...</td>\n",
       "      <td>...</td>\n",
       "      <td>...</td>\n",
       "      <td>...</td>\n",
       "      <td>...</td>\n",
       "      <td>...</td>\n",
       "      <td>...</td>\n",
       "      <td>...</td>\n",
       "      <td>...</td>\n",
       "      <td>...</td>\n",
       "      <td>...</td>\n",
       "      <td>...</td>\n",
       "    </tr>\n",
       "    <tr>\n",
       "      <th>8955.0</th>\n",
       "      <td>0.070798</td>\n",
       "      <td>0.033142</td>\n",
       "      <td>-0.051450</td>\n",
       "      <td>1.081704</td>\n",
       "      <td>0.933349</td>\n",
       "      <td>0.939368</td>\n",
       "      <td>-2.127417</td>\n",
       "      <td>-2.238808</td>\n",
       "      <td>-2.182695</td>\n",
       "      <td>2.143425</td>\n",
       "      <td>2.134018</td>\n",
       "      <td>2.508128</td>\n",
       "      <td>-0.080680</td>\n",
       "      <td>-0.292391</td>\n",
       "      <td>0.279585</td>\n",
       "      <td>-0.697273</td>\n",
       "      <td>1.386264</td>\n",
       "      <td>-0.069003</td>\n",
       "    </tr>\n",
       "    <tr>\n",
       "      <th>8956.0</th>\n",
       "      <td>0.030234</td>\n",
       "      <td>-0.018972</td>\n",
       "      <td>-0.109389</td>\n",
       "      <td>0.998156</td>\n",
       "      <td>0.909103</td>\n",
       "      <td>1.048331</td>\n",
       "      <td>-1.691912</td>\n",
       "      <td>-2.325185</td>\n",
       "      <td>-2.138404</td>\n",
       "      <td>1.907844</td>\n",
       "      <td>2.276148</td>\n",
       "      <td>1.986155</td>\n",
       "      <td>0.065697</td>\n",
       "      <td>0.040335</td>\n",
       "      <td>0.272105</td>\n",
       "      <td>-0.713817</td>\n",
       "      <td>1.361130</td>\n",
       "      <td>-0.109361</td>\n",
       "    </tr>\n",
       "    <tr>\n",
       "      <th>8957.0</th>\n",
       "      <td>-0.147562</td>\n",
       "      <td>-0.013614</td>\n",
       "      <td>-0.003018</td>\n",
       "      <td>0.993478</td>\n",
       "      <td>1.099060</td>\n",
       "      <td>0.928519</td>\n",
       "      <td>-1.480673</td>\n",
       "      <td>-2.384529</td>\n",
       "      <td>-2.732372</td>\n",
       "      <td>1.921837</td>\n",
       "      <td>2.822242</td>\n",
       "      <td>1.643246</td>\n",
       "      <td>0.714042</td>\n",
       "      <td>0.062787</td>\n",
       "      <td>-0.796413</td>\n",
       "      <td>-0.759605</td>\n",
       "      <td>1.376165</td>\n",
       "      <td>-0.139870</td>\n",
       "    </tr>\n",
       "    <tr>\n",
       "      <th>8958.0</th>\n",
       "      <td>0.137001</td>\n",
       "      <td>0.061176</td>\n",
       "      <td>-0.031824</td>\n",
       "      <td>1.041318</td>\n",
       "      <td>0.818964</td>\n",
       "      <td>1.050959</td>\n",
       "      <td>-1.519794</td>\n",
       "      <td>-1.637522</td>\n",
       "      <td>-2.859407</td>\n",
       "      <td>2.160748</td>\n",
       "      <td>3.012346</td>\n",
       "      <td>3.033175</td>\n",
       "      <td>0.379977</td>\n",
       "      <td>0.353045</td>\n",
       "      <td>0.324909</td>\n",
       "      <td>-0.767341</td>\n",
       "      <td>1.461685</td>\n",
       "      <td>-0.130018</td>\n",
       "    </tr>\n",
       "    <tr>\n",
       "      <th>8959.0</th>\n",
       "      <td>-0.087678</td>\n",
       "      <td>-0.032589</td>\n",
       "      <td>-0.016548</td>\n",
       "      <td>0.972985</td>\n",
       "      <td>1.213935</td>\n",
       "      <td>1.129651</td>\n",
       "      <td>-1.654360</td>\n",
       "      <td>-3.351871</td>\n",
       "      <td>-2.379579</td>\n",
       "      <td>1.698838</td>\n",
       "      <td>2.944690</td>\n",
       "      <td>2.247099</td>\n",
       "      <td>0.233153</td>\n",
       "      <td>-0.286142</td>\n",
       "      <td>-0.433915</td>\n",
       "      <td>-0.811637</td>\n",
       "      <td>1.561135</td>\n",
       "      <td>-0.106887</td>\n",
       "    </tr>\n",
       "  </tbody>\n",
       "</table>\n",
       "<p>8960 rows × 18 columns</p>\n",
       "</div>"
      ],
      "text/plain": [
       "        sensor_A  sensor_B  sensor_C  sensor_A  sensor_B  sensor_C  sensor_A  \\\n",
       "0.0    -0.062685  0.014724 -0.056515  0.988268  1.210087  0.980058 -1.815408   \n",
       "1.0    -0.153611  0.014196 -0.078285  0.900904  0.973971  0.908227 -1.493521   \n",
       "2.0     0.051289  0.043324 -0.057817  1.036681  1.036154  1.088889 -1.752650   \n",
       "3.0     0.063667  0.018329 -0.067171  0.893419  1.221790  1.083317 -1.581868   \n",
       "4.0    -0.196459 -0.052498 -0.121069  0.948502  0.745984  1.043245 -1.786668   \n",
       "...          ...       ...       ...       ...       ...       ...       ...   \n",
       "8955.0  0.070798  0.033142 -0.051450  1.081704  0.933349  0.939368 -2.127417   \n",
       "8956.0  0.030234 -0.018972 -0.109389  0.998156  0.909103  1.048331 -1.691912   \n",
       "8957.0 -0.147562 -0.013614 -0.003018  0.993478  1.099060  0.928519 -1.480673   \n",
       "8958.0  0.137001  0.061176 -0.031824  1.041318  0.818964  1.050959 -1.519794   \n",
       "8959.0 -0.087678 -0.032589 -0.016548  0.972985  1.213935  1.129651 -1.654360   \n",
       "\n",
       "        sensor_B  sensor_C  sensor_A  sensor_B  sensor_C  sensor_A  sensor_B  \\\n",
       "0.0    -2.627131 -2.768976  2.245526  2.952710  2.432525  0.521596  0.175776   \n",
       "1.0    -2.378179 -2.310316  1.911610  2.803103  2.155641  0.564537  0.326462   \n",
       "2.0    -2.369333 -3.462210  2.308284  2.413387  1.934155  0.295918  0.012605   \n",
       "3.0    -3.308527 -2.258773  1.949018  2.616859  2.710428  0.249805 -0.296168   \n",
       "4.0    -2.697356 -2.426879  1.936368  2.025064  1.805276  0.506458 -0.258511   \n",
       "...          ...       ...       ...       ...       ...       ...       ...   \n",
       "8955.0 -2.238808 -2.182695  2.143425  2.134018  2.508128 -0.080680 -0.292391   \n",
       "8956.0 -2.325185 -2.138404  1.907844  2.276148  1.986155  0.065697  0.040335   \n",
       "8957.0 -2.384529 -2.732372  1.921837  2.822242  1.643246  0.714042  0.062787   \n",
       "8958.0 -1.637522 -2.859407  2.160748  3.012346  3.033175  0.379977  0.353045   \n",
       "8959.0 -3.351871 -2.379579  1.698838  2.944690  2.247099  0.233153 -0.286142   \n",
       "\n",
       "        sensor_C         0         0         0  \n",
       "0.0    -0.165921 -0.858887 -0.412198 -0.232947  \n",
       "1.0     0.000843 -0.832779 -0.420513 -0.229271  \n",
       "2.0    -0.666971 -0.856089 -0.434534 -0.247021  \n",
       "3.0     0.311712 -0.871426 -0.482056 -0.212623  \n",
       "4.0    -0.092705 -0.883867 -0.431891 -0.221324  \n",
       "...          ...       ...       ...       ...  \n",
       "8955.0  0.279585 -0.697273  1.386264 -0.069003  \n",
       "8956.0  0.272105 -0.713817  1.361130 -0.109361  \n",
       "8957.0 -0.796413 -0.759605  1.376165 -0.139870  \n",
       "8958.0  0.324909 -0.767341  1.461685 -0.130018  \n",
       "8959.0 -0.433915 -0.811637  1.561135 -0.106887  \n",
       "\n",
       "[8960 rows x 18 columns]"
      ]
     },
     "execution_count": 13,
     "metadata": {},
     "output_type": "execute_result"
    }
   ],
   "source": [
    "trn_df = pd.concat([dfmn,dfst,dfmi,dfma,dfsk,dfku,dfku1,dfku2],axis=1)\n",
    "trn_df"
   ]
  },
  {
   "cell_type": "code",
   "execution_count": 14,
   "metadata": {
    "collapsed": true
   },
   "outputs": [],
   "source": [
    "dfmn1 = tst_df.groupby('ID').mean()\n",
    "dfst1 = tst_df.groupby('ID').std()\n",
    "dfmi1 = tst_df.groupby('ID').min()\n",
    "dfma1 = tst_df.groupby('ID').max()\n",
    "dfsk1 = tst_df.groupby('ID').skew() #왜도"
   ]
  },
  {
   "cell_type": "code",
   "execution_count": 15,
   "metadata": {
    "collapsed": true
   },
   "outputs": [],
   "source": [
    "k = []\n",
    "t = []\n",
    "for i in range(2240):\n",
    "    k = tst_df[i:i+130]\n",
    "    p = k['sensor_A'].kurtosis()\n",
    "    t.append(p)\n",
    "k1 = []\n",
    "t1 = []\n",
    "for i in range(2240):\n",
    "    k1 = tst_df[i:i+130]\n",
    "    p1 = k1['sensor_B'].kurtosis()\n",
    "    t1.append(p1)\n",
    "k2 = []\n",
    "t2 = []\n",
    "for i in range(2240):\n",
    "    k2 = tst_df[i:i+130]\n",
    "    p2 = k2['sensor_C'].kurtosis()\n",
    "    t2.append(p2)\n",
    "dfku0 = pd.DataFrame([t])\n",
    "dfku0 = dfku0.T\n",
    "dfku10 = pd.DataFrame([t1])\n",
    "dfku10 = dfku10.T\n",
    "dfku20 = pd.DataFrame([t2])\n",
    "dfku20 = dfku20.T"
   ]
  },
  {
   "cell_type": "code",
   "execution_count": 16,
   "metadata": {
    "collapsed": true
   },
   "outputs": [],
   "source": [
    "new_index = []\n",
    "\n",
    "for i in range(2240):\n",
    "    new_index.append(float(i+8960))\n",
    "    \n",
    "new_index = pd.DataFrame(new_index)\n",
    "new_index.columns = ['ID']"
   ]
  },
  {
   "cell_type": "code",
   "execution_count": 17,
   "metadata": {
    "collapsed": false
   },
   "outputs": [
    {
     "data": {
      "text/html": [
       "<div>\n",
       "<style scoped>\n",
       "    .dataframe tbody tr th:only-of-type {\n",
       "        vertical-align: middle;\n",
       "    }\n",
       "\n",
       "    .dataframe tbody tr th {\n",
       "        vertical-align: top;\n",
       "    }\n",
       "\n",
       "    .dataframe thead th {\n",
       "        text-align: right;\n",
       "    }\n",
       "</style>\n",
       "<table border=\"1\" class=\"dataframe\">\n",
       "  <thead>\n",
       "    <tr style=\"text-align: right;\">\n",
       "      <th></th>\n",
       "      <th>sensor_A</th>\n",
       "      <th>sensor_B</th>\n",
       "      <th>sensor_C</th>\n",
       "      <th>ID</th>\n",
       "    </tr>\n",
       "  </thead>\n",
       "  <tbody>\n",
       "    <tr>\n",
       "      <th>0</th>\n",
       "      <td>-0.804265</td>\n",
       "      <td>-0.200289</td>\n",
       "      <td>-0.580695</td>\n",
       "      <td>8960.0</td>\n",
       "    </tr>\n",
       "    <tr>\n",
       "      <th>1</th>\n",
       "      <td>-0.783893</td>\n",
       "      <td>-0.193444</td>\n",
       "      <td>-0.582595</td>\n",
       "      <td>8961.0</td>\n",
       "    </tr>\n",
       "    <tr>\n",
       "      <th>2</th>\n",
       "      <td>-0.753696</td>\n",
       "      <td>-0.224812</td>\n",
       "      <td>-0.584761</td>\n",
       "      <td>8962.0</td>\n",
       "    </tr>\n",
       "    <tr>\n",
       "      <th>3</th>\n",
       "      <td>-0.790378</td>\n",
       "      <td>-0.272697</td>\n",
       "      <td>-0.553291</td>\n",
       "      <td>8963.0</td>\n",
       "    </tr>\n",
       "    <tr>\n",
       "      <th>4</th>\n",
       "      <td>-0.810839</td>\n",
       "      <td>-0.254097</td>\n",
       "      <td>-0.533124</td>\n",
       "      <td>8964.0</td>\n",
       "    </tr>\n",
       "    <tr>\n",
       "      <th>...</th>\n",
       "      <td>...</td>\n",
       "      <td>...</td>\n",
       "      <td>...</td>\n",
       "      <td>...</td>\n",
       "    </tr>\n",
       "    <tr>\n",
       "      <th>2235</th>\n",
       "      <td>-1.379756</td>\n",
       "      <td>-0.168899</td>\n",
       "      <td>-0.385826</td>\n",
       "      <td>11195.0</td>\n",
       "    </tr>\n",
       "    <tr>\n",
       "      <th>2236</th>\n",
       "      <td>-1.369774</td>\n",
       "      <td>-0.166182</td>\n",
       "      <td>-0.412978</td>\n",
       "      <td>11196.0</td>\n",
       "    </tr>\n",
       "    <tr>\n",
       "      <th>2237</th>\n",
       "      <td>-1.273067</td>\n",
       "      <td>-0.115782</td>\n",
       "      <td>-0.392926</td>\n",
       "      <td>11197.0</td>\n",
       "    </tr>\n",
       "    <tr>\n",
       "      <th>2238</th>\n",
       "      <td>-1.256130</td>\n",
       "      <td>-0.099296</td>\n",
       "      <td>-0.356850</td>\n",
       "      <td>11198.0</td>\n",
       "    </tr>\n",
       "    <tr>\n",
       "      <th>2239</th>\n",
       "      <td>-1.250641</td>\n",
       "      <td>-0.101513</td>\n",
       "      <td>-0.342422</td>\n",
       "      <td>11199.0</td>\n",
       "    </tr>\n",
       "  </tbody>\n",
       "</table>\n",
       "<p>2240 rows × 4 columns</p>\n",
       "</div>"
      ],
      "text/plain": [
       "      sensor_A  sensor_B  sensor_C       ID\n",
       "0    -0.804265 -0.200289 -0.580695   8960.0\n",
       "1    -0.783893 -0.193444 -0.582595   8961.0\n",
       "2    -0.753696 -0.224812 -0.584761   8962.0\n",
       "3    -0.790378 -0.272697 -0.553291   8963.0\n",
       "4    -0.810839 -0.254097 -0.533124   8964.0\n",
       "...        ...       ...       ...      ...\n",
       "2235 -1.379756 -0.168899 -0.385826  11195.0\n",
       "2236 -1.369774 -0.166182 -0.412978  11196.0\n",
       "2237 -1.273067 -0.115782 -0.392926  11197.0\n",
       "2238 -1.256130 -0.099296 -0.356850  11198.0\n",
       "2239 -1.250641 -0.101513 -0.342422  11199.0\n",
       "\n",
       "[2240 rows x 4 columns]"
      ]
     },
     "execution_count": 17,
     "metadata": {},
     "output_type": "execute_result"
    }
   ],
   "source": [
    "dfkuku = pd.concat([dfku0,dfku10,dfku20,new_index],axis=1)\n",
    "dfkuku.columns = ['sensor_A', 'sensor_B', 'sensor_C', 'ID']\n",
    "dfkuku"
   ]
  },
  {
   "cell_type": "code",
   "execution_count": 18,
   "metadata": {
    "collapsed": false
   },
   "outputs": [
    {
     "data": {
      "text/html": [
       "<div>\n",
       "<style scoped>\n",
       "    .dataframe tbody tr th:only-of-type {\n",
       "        vertical-align: middle;\n",
       "    }\n",
       "\n",
       "    .dataframe tbody tr th {\n",
       "        vertical-align: top;\n",
       "    }\n",
       "\n",
       "    .dataframe thead th {\n",
       "        text-align: right;\n",
       "    }\n",
       "</style>\n",
       "<table border=\"1\" class=\"dataframe\">\n",
       "  <thead>\n",
       "    <tr style=\"text-align: right;\">\n",
       "      <th></th>\n",
       "      <th>sensor_A</th>\n",
       "      <th>sensor_B</th>\n",
       "      <th>sensor_C</th>\n",
       "    </tr>\n",
       "    <tr>\n",
       "      <th>ID</th>\n",
       "      <th></th>\n",
       "      <th></th>\n",
       "      <th></th>\n",
       "    </tr>\n",
       "  </thead>\n",
       "  <tbody>\n",
       "    <tr>\n",
       "      <th>8960.0</th>\n",
       "      <td>-0.804265</td>\n",
       "      <td>-0.200289</td>\n",
       "      <td>-0.580695</td>\n",
       "    </tr>\n",
       "    <tr>\n",
       "      <th>8961.0</th>\n",
       "      <td>-0.783893</td>\n",
       "      <td>-0.193444</td>\n",
       "      <td>-0.582595</td>\n",
       "    </tr>\n",
       "    <tr>\n",
       "      <th>8962.0</th>\n",
       "      <td>-0.753696</td>\n",
       "      <td>-0.224812</td>\n",
       "      <td>-0.584761</td>\n",
       "    </tr>\n",
       "    <tr>\n",
       "      <th>8963.0</th>\n",
       "      <td>-0.790378</td>\n",
       "      <td>-0.272697</td>\n",
       "      <td>-0.553291</td>\n",
       "    </tr>\n",
       "    <tr>\n",
       "      <th>8964.0</th>\n",
       "      <td>-0.810839</td>\n",
       "      <td>-0.254097</td>\n",
       "      <td>-0.533124</td>\n",
       "    </tr>\n",
       "    <tr>\n",
       "      <th>...</th>\n",
       "      <td>...</td>\n",
       "      <td>...</td>\n",
       "      <td>...</td>\n",
       "    </tr>\n",
       "    <tr>\n",
       "      <th>11195.0</th>\n",
       "      <td>-1.379756</td>\n",
       "      <td>-0.168899</td>\n",
       "      <td>-0.385826</td>\n",
       "    </tr>\n",
       "    <tr>\n",
       "      <th>11196.0</th>\n",
       "      <td>-1.369774</td>\n",
       "      <td>-0.166182</td>\n",
       "      <td>-0.412978</td>\n",
       "    </tr>\n",
       "    <tr>\n",
       "      <th>11197.0</th>\n",
       "      <td>-1.273067</td>\n",
       "      <td>-0.115782</td>\n",
       "      <td>-0.392926</td>\n",
       "    </tr>\n",
       "    <tr>\n",
       "      <th>11198.0</th>\n",
       "      <td>-1.256130</td>\n",
       "      <td>-0.099296</td>\n",
       "      <td>-0.356850</td>\n",
       "    </tr>\n",
       "    <tr>\n",
       "      <th>11199.0</th>\n",
       "      <td>-1.250641</td>\n",
       "      <td>-0.101513</td>\n",
       "      <td>-0.342422</td>\n",
       "    </tr>\n",
       "  </tbody>\n",
       "</table>\n",
       "<p>2240 rows × 3 columns</p>\n",
       "</div>"
      ],
      "text/plain": [
       "         sensor_A  sensor_B  sensor_C\n",
       "ID                                   \n",
       "8960.0  -0.804265 -0.200289 -0.580695\n",
       "8961.0  -0.783893 -0.193444 -0.582595\n",
       "8962.0  -0.753696 -0.224812 -0.584761\n",
       "8963.0  -0.790378 -0.272697 -0.553291\n",
       "8964.0  -0.810839 -0.254097 -0.533124\n",
       "...           ...       ...       ...\n",
       "11195.0 -1.379756 -0.168899 -0.385826\n",
       "11196.0 -1.369774 -0.166182 -0.412978\n",
       "11197.0 -1.273067 -0.115782 -0.392926\n",
       "11198.0 -1.256130 -0.099296 -0.356850\n",
       "11199.0 -1.250641 -0.101513 -0.342422\n",
       "\n",
       "[2240 rows x 3 columns]"
      ]
     },
     "execution_count": 18,
     "metadata": {},
     "output_type": "execute_result"
    }
   ],
   "source": [
    "dfkuku = dfkuku.set_index('ID')\n",
    "dfkuku"
   ]
  },
  {
   "cell_type": "code",
   "execution_count": 19,
   "metadata": {
    "collapsed": false
   },
   "outputs": [
    {
     "data": {
      "text/html": [
       "<div>\n",
       "<style scoped>\n",
       "    .dataframe tbody tr th:only-of-type {\n",
       "        vertical-align: middle;\n",
       "    }\n",
       "\n",
       "    .dataframe tbody tr th {\n",
       "        vertical-align: top;\n",
       "    }\n",
       "\n",
       "    .dataframe thead th {\n",
       "        text-align: right;\n",
       "    }\n",
       "</style>\n",
       "<table border=\"1\" class=\"dataframe\">\n",
       "  <thead>\n",
       "    <tr style=\"text-align: right;\">\n",
       "      <th></th>\n",
       "      <th>sensor_A</th>\n",
       "      <th>sensor_B</th>\n",
       "      <th>sensor_C</th>\n",
       "      <th>sensor_A</th>\n",
       "      <th>sensor_B</th>\n",
       "      <th>sensor_C</th>\n",
       "      <th>sensor_A</th>\n",
       "      <th>sensor_B</th>\n",
       "      <th>sensor_C</th>\n",
       "      <th>sensor_A</th>\n",
       "      <th>sensor_B</th>\n",
       "      <th>sensor_C</th>\n",
       "      <th>sensor_A</th>\n",
       "      <th>sensor_B</th>\n",
       "      <th>sensor_C</th>\n",
       "      <th>sensor_A</th>\n",
       "      <th>sensor_B</th>\n",
       "      <th>sensor_C</th>\n",
       "    </tr>\n",
       "    <tr>\n",
       "      <th>ID</th>\n",
       "      <th></th>\n",
       "      <th></th>\n",
       "      <th></th>\n",
       "      <th></th>\n",
       "      <th></th>\n",
       "      <th></th>\n",
       "      <th></th>\n",
       "      <th></th>\n",
       "      <th></th>\n",
       "      <th></th>\n",
       "      <th></th>\n",
       "      <th></th>\n",
       "      <th></th>\n",
       "      <th></th>\n",
       "      <th></th>\n",
       "      <th></th>\n",
       "      <th></th>\n",
       "      <th></th>\n",
       "    </tr>\n",
       "  </thead>\n",
       "  <tbody>\n",
       "    <tr>\n",
       "      <th>8960.0</th>\n",
       "      <td>0.071084</td>\n",
       "      <td>-0.069369</td>\n",
       "      <td>-0.075136</td>\n",
       "      <td>1.064367</td>\n",
       "      <td>0.969900</td>\n",
       "      <td>1.059073</td>\n",
       "      <td>-2.143235</td>\n",
       "      <td>-2.285735</td>\n",
       "      <td>-2.239960</td>\n",
       "      <td>2.293006</td>\n",
       "      <td>2.914095</td>\n",
       "      <td>2.300860</td>\n",
       "      <td>-0.011280</td>\n",
       "      <td>0.202557</td>\n",
       "      <td>0.272653</td>\n",
       "      <td>-0.804265</td>\n",
       "      <td>-0.200289</td>\n",
       "      <td>-0.580695</td>\n",
       "    </tr>\n",
       "    <tr>\n",
       "      <th>8961.0</th>\n",
       "      <td>0.031851</td>\n",
       "      <td>0.021130</td>\n",
       "      <td>0.050976</td>\n",
       "      <td>1.084123</td>\n",
       "      <td>0.957770</td>\n",
       "      <td>1.064134</td>\n",
       "      <td>-2.269555</td>\n",
       "      <td>-2.268553</td>\n",
       "      <td>-2.401180</td>\n",
       "      <td>2.335526</td>\n",
       "      <td>3.197478</td>\n",
       "      <td>2.883419</td>\n",
       "      <td>-0.066405</td>\n",
       "      <td>0.052269</td>\n",
       "      <td>-0.081803</td>\n",
       "      <td>-0.783893</td>\n",
       "      <td>-0.193444</td>\n",
       "      <td>-0.582595</td>\n",
       "    </tr>\n",
       "    <tr>\n",
       "      <th>8962.0</th>\n",
       "      <td>-0.094004</td>\n",
       "      <td>0.021193</td>\n",
       "      <td>-0.049337</td>\n",
       "      <td>0.991206</td>\n",
       "      <td>0.910789</td>\n",
       "      <td>0.958661</td>\n",
       "      <td>-1.593307</td>\n",
       "      <td>-2.397788</td>\n",
       "      <td>-2.287381</td>\n",
       "      <td>1.981793</td>\n",
       "      <td>3.172244</td>\n",
       "      <td>2.038992</td>\n",
       "      <td>0.372964</td>\n",
       "      <td>0.173876</td>\n",
       "      <td>-0.348163</td>\n",
       "      <td>-0.753696</td>\n",
       "      <td>-0.224812</td>\n",
       "      <td>-0.584761</td>\n",
       "    </tr>\n",
       "    <tr>\n",
       "      <th>8963.0</th>\n",
       "      <td>-0.032039</td>\n",
       "      <td>0.040759</td>\n",
       "      <td>0.008774</td>\n",
       "      <td>1.122295</td>\n",
       "      <td>1.064096</td>\n",
       "      <td>0.919389</td>\n",
       "      <td>-2.899868</td>\n",
       "      <td>-4.473934</td>\n",
       "      <td>-1.777084</td>\n",
       "      <td>2.076592</td>\n",
       "      <td>2.085305</td>\n",
       "      <td>2.319964</td>\n",
       "      <td>-0.299933</td>\n",
       "      <td>-0.945332</td>\n",
       "      <td>0.637122</td>\n",
       "      <td>-0.790378</td>\n",
       "      <td>-0.272697</td>\n",
       "      <td>-0.553291</td>\n",
       "    </tr>\n",
       "    <tr>\n",
       "      <th>8964.0</th>\n",
       "      <td>-0.027369</td>\n",
       "      <td>0.052631</td>\n",
       "      <td>-0.079393</td>\n",
       "      <td>0.993172</td>\n",
       "      <td>1.039673</td>\n",
       "      <td>1.173177</td>\n",
       "      <td>-1.569395</td>\n",
       "      <td>-3.011533</td>\n",
       "      <td>-2.589172</td>\n",
       "      <td>1.882426</td>\n",
       "      <td>2.558500</td>\n",
       "      <td>2.539626</td>\n",
       "      <td>0.197350</td>\n",
       "      <td>-0.409999</td>\n",
       "      <td>0.109854</td>\n",
       "      <td>-0.810839</td>\n",
       "      <td>-0.254097</td>\n",
       "      <td>-0.533124</td>\n",
       "    </tr>\n",
       "    <tr>\n",
       "      <th>...</th>\n",
       "      <td>...</td>\n",
       "      <td>...</td>\n",
       "      <td>...</td>\n",
       "      <td>...</td>\n",
       "      <td>...</td>\n",
       "      <td>...</td>\n",
       "      <td>...</td>\n",
       "      <td>...</td>\n",
       "      <td>...</td>\n",
       "      <td>...</td>\n",
       "      <td>...</td>\n",
       "      <td>...</td>\n",
       "      <td>...</td>\n",
       "      <td>...</td>\n",
       "      <td>...</td>\n",
       "      <td>...</td>\n",
       "      <td>...</td>\n",
       "      <td>...</td>\n",
       "    </tr>\n",
       "    <tr>\n",
       "      <th>11195.0</th>\n",
       "      <td>0.091232</td>\n",
       "      <td>0.004996</td>\n",
       "      <td>0.014900</td>\n",
       "      <td>0.894748</td>\n",
       "      <td>0.916014</td>\n",
       "      <td>1.123445</td>\n",
       "      <td>-2.603755</td>\n",
       "      <td>-2.872310</td>\n",
       "      <td>-2.339551</td>\n",
       "      <td>2.058825</td>\n",
       "      <td>1.964740</td>\n",
       "      <td>2.415459</td>\n",
       "      <td>0.087783</td>\n",
       "      <td>-0.381140</td>\n",
       "      <td>0.034210</td>\n",
       "      <td>-1.379756</td>\n",
       "      <td>-0.168899</td>\n",
       "      <td>-0.385826</td>\n",
       "    </tr>\n",
       "    <tr>\n",
       "      <th>11196.0</th>\n",
       "      <td>0.053182</td>\n",
       "      <td>0.040998</td>\n",
       "      <td>0.031626</td>\n",
       "      <td>1.042445</td>\n",
       "      <td>0.709999</td>\n",
       "      <td>0.980311</td>\n",
       "      <td>-1.629263</td>\n",
       "      <td>-2.096825</td>\n",
       "      <td>-3.277595</td>\n",
       "      <td>2.154216</td>\n",
       "      <td>2.420189</td>\n",
       "      <td>1.994715</td>\n",
       "      <td>0.414141</td>\n",
       "      <td>0.080736</td>\n",
       "      <td>-1.032300</td>\n",
       "      <td>-1.369774</td>\n",
       "      <td>-0.166182</td>\n",
       "      <td>-0.412978</td>\n",
       "    </tr>\n",
       "    <tr>\n",
       "      <th>11197.0</th>\n",
       "      <td>0.059639</td>\n",
       "      <td>0.030932</td>\n",
       "      <td>0.021782</td>\n",
       "      <td>1.076124</td>\n",
       "      <td>0.823452</td>\n",
       "      <td>1.034795</td>\n",
       "      <td>-1.731937</td>\n",
       "      <td>-1.673851</td>\n",
       "      <td>-3.317743</td>\n",
       "      <td>2.202882</td>\n",
       "      <td>2.444603</td>\n",
       "      <td>2.202676</td>\n",
       "      <td>0.373674</td>\n",
       "      <td>0.179471</td>\n",
       "      <td>-0.730592</td>\n",
       "      <td>-1.273067</td>\n",
       "      <td>-0.115782</td>\n",
       "      <td>-0.392926</td>\n",
       "    </tr>\n",
       "    <tr>\n",
       "      <th>11198.0</th>\n",
       "      <td>-0.001770</td>\n",
       "      <td>0.007180</td>\n",
       "      <td>0.066414</td>\n",
       "      <td>0.925331</td>\n",
       "      <td>1.052979</td>\n",
       "      <td>0.996140</td>\n",
       "      <td>-2.118622</td>\n",
       "      <td>-3.248447</td>\n",
       "      <td>-2.529880</td>\n",
       "      <td>2.115083</td>\n",
       "      <td>2.354236</td>\n",
       "      <td>2.457832</td>\n",
       "      <td>-0.120664</td>\n",
       "      <td>-0.596103</td>\n",
       "      <td>0.289504</td>\n",
       "      <td>-1.256130</td>\n",
       "      <td>-0.099296</td>\n",
       "      <td>-0.356850</td>\n",
       "    </tr>\n",
       "    <tr>\n",
       "      <th>11199.0</th>\n",
       "      <td>0.048410</td>\n",
       "      <td>-0.008800</td>\n",
       "      <td>-0.021946</td>\n",
       "      <td>0.994392</td>\n",
       "      <td>0.969629</td>\n",
       "      <td>0.929404</td>\n",
       "      <td>-1.920219</td>\n",
       "      <td>-3.026202</td>\n",
       "      <td>-1.646191</td>\n",
       "      <td>2.063344</td>\n",
       "      <td>3.020111</td>\n",
       "      <td>2.037872</td>\n",
       "      <td>0.039837</td>\n",
       "      <td>-0.328653</td>\n",
       "      <td>0.190446</td>\n",
       "      <td>-1.250641</td>\n",
       "      <td>-0.101513</td>\n",
       "      <td>-0.342422</td>\n",
       "    </tr>\n",
       "  </tbody>\n",
       "</table>\n",
       "<p>2240 rows × 18 columns</p>\n",
       "</div>"
      ],
      "text/plain": [
       "         sensor_A  sensor_B  sensor_C  sensor_A  sensor_B  sensor_C  sensor_A  \\\n",
       "ID                                                                              \n",
       "8960.0   0.071084 -0.069369 -0.075136  1.064367  0.969900  1.059073 -2.143235   \n",
       "8961.0   0.031851  0.021130  0.050976  1.084123  0.957770  1.064134 -2.269555   \n",
       "8962.0  -0.094004  0.021193 -0.049337  0.991206  0.910789  0.958661 -1.593307   \n",
       "8963.0  -0.032039  0.040759  0.008774  1.122295  1.064096  0.919389 -2.899868   \n",
       "8964.0  -0.027369  0.052631 -0.079393  0.993172  1.039673  1.173177 -1.569395   \n",
       "...           ...       ...       ...       ...       ...       ...       ...   \n",
       "11195.0  0.091232  0.004996  0.014900  0.894748  0.916014  1.123445 -2.603755   \n",
       "11196.0  0.053182  0.040998  0.031626  1.042445  0.709999  0.980311 -1.629263   \n",
       "11197.0  0.059639  0.030932  0.021782  1.076124  0.823452  1.034795 -1.731937   \n",
       "11198.0 -0.001770  0.007180  0.066414  0.925331  1.052979  0.996140 -2.118622   \n",
       "11199.0  0.048410 -0.008800 -0.021946  0.994392  0.969629  0.929404 -1.920219   \n",
       "\n",
       "         sensor_B  sensor_C  sensor_A  sensor_B  sensor_C  sensor_A  sensor_B  \\\n",
       "ID                                                                              \n",
       "8960.0  -2.285735 -2.239960  2.293006  2.914095  2.300860 -0.011280  0.202557   \n",
       "8961.0  -2.268553 -2.401180  2.335526  3.197478  2.883419 -0.066405  0.052269   \n",
       "8962.0  -2.397788 -2.287381  1.981793  3.172244  2.038992  0.372964  0.173876   \n",
       "8963.0  -4.473934 -1.777084  2.076592  2.085305  2.319964 -0.299933 -0.945332   \n",
       "8964.0  -3.011533 -2.589172  1.882426  2.558500  2.539626  0.197350 -0.409999   \n",
       "...           ...       ...       ...       ...       ...       ...       ...   \n",
       "11195.0 -2.872310 -2.339551  2.058825  1.964740  2.415459  0.087783 -0.381140   \n",
       "11196.0 -2.096825 -3.277595  2.154216  2.420189  1.994715  0.414141  0.080736   \n",
       "11197.0 -1.673851 -3.317743  2.202882  2.444603  2.202676  0.373674  0.179471   \n",
       "11198.0 -3.248447 -2.529880  2.115083  2.354236  2.457832 -0.120664 -0.596103   \n",
       "11199.0 -3.026202 -1.646191  2.063344  3.020111  2.037872  0.039837 -0.328653   \n",
       "\n",
       "         sensor_C  sensor_A  sensor_B  sensor_C  \n",
       "ID                                               \n",
       "8960.0   0.272653 -0.804265 -0.200289 -0.580695  \n",
       "8961.0  -0.081803 -0.783893 -0.193444 -0.582595  \n",
       "8962.0  -0.348163 -0.753696 -0.224812 -0.584761  \n",
       "8963.0   0.637122 -0.790378 -0.272697 -0.553291  \n",
       "8964.0   0.109854 -0.810839 -0.254097 -0.533124  \n",
       "...           ...       ...       ...       ...  \n",
       "11195.0  0.034210 -1.379756 -0.168899 -0.385826  \n",
       "11196.0 -1.032300 -1.369774 -0.166182 -0.412978  \n",
       "11197.0 -0.730592 -1.273067 -0.115782 -0.392926  \n",
       "11198.0  0.289504 -1.256130 -0.099296 -0.356850  \n",
       "11199.0  0.190446 -1.250641 -0.101513 -0.342422  \n",
       "\n",
       "[2240 rows x 18 columns]"
      ]
     },
     "execution_count": 19,
     "metadata": {},
     "output_type": "execute_result"
    }
   ],
   "source": [
    "tst_df = pd.concat([dfmn1,dfst1,dfmi1,dfma1,dfsk1,dfkuku],axis=1)\n",
    "tst_df"
   ]
  },
  {
   "cell_type": "code",
   "execution_count": 20,
   "metadata": {
    "collapsed": false
   },
   "outputs": [
    {
     "data": {
      "text/plain": [
       "(8960, 18)"
      ]
     },
     "execution_count": 20,
     "metadata": {},
     "output_type": "execute_result"
    }
   ],
   "source": [
    "trn_df.shape"
   ]
  },
  {
   "cell_type": "code",
   "execution_count": 21,
   "metadata": {
    "collapsed": false
   },
   "outputs": [
    {
     "data": {
      "text/plain": [
       "(2240, 18)"
      ]
     },
     "execution_count": 21,
     "metadata": {},
     "output_type": "execute_result"
    }
   ],
   "source": [
    "tst_df.shape"
   ]
  },
  {
   "cell_type": "code",
   "execution_count": 22,
   "metadata": {
    "collapsed": true
   },
   "outputs": [],
   "source": [
    "# df_values = trn_df.values\n",
    "# datalist = []\n",
    "# datalist.append(df_values)\n",
    "# data_array = np.array(trn_df)\n",
    "# data_reshape = data_array.reshape(8960, 18, 1)"
   ]
  },
  {
   "cell_type": "code",
   "execution_count": 23,
   "metadata": {
    "collapsed": true
   },
   "outputs": [],
   "source": [
    "# df_values1 = tst_df.values\n",
    "# datalist1 = []\n",
    "# datalist1.append(df_values1)\n",
    "# data_array1 = np.array(tst_df)\n",
    "# data_reshape1 = data_array1.reshape(2240, 18, 1)"
   ]
  },
  {
   "cell_type": "code",
   "execution_count": 24,
   "metadata": {
    "collapsed": true
   },
   "outputs": [],
   "source": [
    "# trn_df = data_reshape\n",
    "# tst_df = data_reshape1"
   ]
  },
  {
   "cell_type": "code",
   "execution_count": 25,
   "metadata": {
    "collapsed": true
   },
   "outputs": [],
   "source": [
    "X_trn = trn_df\n",
    "Y_trn = lab_df\n",
    "\n",
    "X_tst = tst_df"
   ]
  },
  {
   "cell_type": "code",
   "execution_count": 26,
   "metadata": {
    "collapsed": false
   },
   "outputs": [
    {
     "data": {
      "text/plain": [
       "((8960, 18), (8960,))"
      ]
     },
     "execution_count": 26,
     "metadata": {},
     "output_type": "execute_result"
    }
   ],
   "source": [
    "X_trn.shape, Y_trn.shape"
   ]
  },
  {
   "cell_type": "code",
   "execution_count": 27,
   "metadata": {
    "collapsed": false
   },
   "outputs": [
    {
     "data": {
      "text/plain": [
       "(2240, 18)"
      ]
     },
     "execution_count": 27,
     "metadata": {},
     "output_type": "execute_result"
    }
   ],
   "source": [
    "X_tst.shape"
   ]
  },
  {
   "cell_type": "code",
   "execution_count": 28,
   "metadata": {
    "collapsed": false
   },
   "outputs": [],
   "source": [
    "from sklearn.ensemble import RandomForestClassifier\n",
    "from sklearn.metrics import mean_squared_error\n",
    "from sklearn.model_selection import cross_val_score, train_test_split\n",
    "import tensorflow as tf\n",
    "from tensorflow.keras.models import Sequential, Model\n",
    "from tensorflow.keras.layers import LSTM, Dense\n",
    "from tensorflow.keras import optimizers\n",
    "from keras.callbacks import EarlyStopping\n",
    "from sklearn.tree import DecisionTreeClassifier\n",
    "from sklearn.naive_bayes import GaussianNB \n",
    "from sklearn.svm import SVC\n",
    "from sklearn.neighbors import KNeighborsClassifier"
   ]
  },
  {
   "cell_type": "code",
   "execution_count": 29,
   "metadata": {
    "collapsed": false
   },
   "outputs": [
    {
     "data": {
      "text/plain": [
       "KNeighborsClassifier(n_neighbors=7)"
      ]
     },
     "execution_count": 29,
     "metadata": {},
     "output_type": "execute_result"
    }
   ],
   "source": [
    "model = KNeighborsClassifier(n_neighbors = 7)\n",
    "model.fit(X_trn, Y_trn)"
   ]
  },
  {
   "cell_type": "code",
   "execution_count": 30,
   "metadata": {
    "collapsed": true
   },
   "outputs": [],
   "source": [
    "test_prediction = model.predict(X_tst)"
   ]
  },
  {
   "cell_type": "code",
   "execution_count": 31,
   "metadata": {
    "collapsed": true
   },
   "outputs": [],
   "source": [
    "sample = os.path.join(datapath, 'answer_sample.csv')"
   ]
  },
  {
   "cell_type": "code",
   "execution_count": 32,
   "metadata": {
    "collapsed": true
   },
   "outputs": [],
   "source": [
    "sample_submission = pd.read_csv(sample, engine='python')"
   ]
  },
  {
   "cell_type": "code",
   "execution_count": 33,
   "metadata": {
    "collapsed": false
   },
   "outputs": [
    {
     "data": {
      "text/html": [
       "<div>\n",
       "<style scoped>\n",
       "    .dataframe tbody tr th:only-of-type {\n",
       "        vertical-align: middle;\n",
       "    }\n",
       "\n",
       "    .dataframe tbody tr th {\n",
       "        vertical-align: top;\n",
       "    }\n",
       "\n",
       "    .dataframe thead th {\n",
       "        text-align: right;\n",
       "    }\n",
       "</style>\n",
       "<table border=\"1\" class=\"dataframe\">\n",
       "  <thead>\n",
       "    <tr style=\"text-align: right;\">\n",
       "      <th></th>\n",
       "      <th>ID</th>\n",
       "      <th>type</th>\n",
       "    </tr>\n",
       "  </thead>\n",
       "  <tbody>\n",
       "    <tr>\n",
       "      <th>0</th>\n",
       "      <td>8960</td>\n",
       "      <td>0</td>\n",
       "    </tr>\n",
       "    <tr>\n",
       "      <th>1</th>\n",
       "      <td>8961</td>\n",
       "      <td>0</td>\n",
       "    </tr>\n",
       "    <tr>\n",
       "      <th>2</th>\n",
       "      <td>8962</td>\n",
       "      <td>0</td>\n",
       "    </tr>\n",
       "    <tr>\n",
       "      <th>3</th>\n",
       "      <td>8963</td>\n",
       "      <td>0</td>\n",
       "    </tr>\n",
       "    <tr>\n",
       "      <th>4</th>\n",
       "      <td>8964</td>\n",
       "      <td>0</td>\n",
       "    </tr>\n",
       "    <tr>\n",
       "      <th>...</th>\n",
       "      <td>...</td>\n",
       "      <td>...</td>\n",
       "    </tr>\n",
       "    <tr>\n",
       "      <th>2235</th>\n",
       "      <td>11195</td>\n",
       "      <td>0</td>\n",
       "    </tr>\n",
       "    <tr>\n",
       "      <th>2236</th>\n",
       "      <td>11196</td>\n",
       "      <td>0</td>\n",
       "    </tr>\n",
       "    <tr>\n",
       "      <th>2237</th>\n",
       "      <td>11197</td>\n",
       "      <td>0</td>\n",
       "    </tr>\n",
       "    <tr>\n",
       "      <th>2238</th>\n",
       "      <td>11198</td>\n",
       "      <td>0</td>\n",
       "    </tr>\n",
       "    <tr>\n",
       "      <th>2239</th>\n",
       "      <td>11199</td>\n",
       "      <td>0</td>\n",
       "    </tr>\n",
       "  </tbody>\n",
       "</table>\n",
       "<p>2240 rows × 2 columns</p>\n",
       "</div>"
      ],
      "text/plain": [
       "         ID  type\n",
       "0      8960     0\n",
       "1      8961     0\n",
       "2      8962     0\n",
       "3      8963     0\n",
       "4      8964     0\n",
       "...     ...   ...\n",
       "2235  11195     0\n",
       "2236  11196     0\n",
       "2237  11197     0\n",
       "2238  11198     0\n",
       "2239  11199     0\n",
       "\n",
       "[2240 rows x 2 columns]"
      ]
     },
     "execution_count": 33,
     "metadata": {},
     "output_type": "execute_result"
    }
   ],
   "source": [
    "sample_submission"
   ]
  },
  {
   "cell_type": "code",
   "execution_count": 34,
   "metadata": {
    "collapsed": true
   },
   "outputs": [],
   "source": [
    "sample_submission['type'] = test_prediction"
   ]
  },
  {
   "cell_type": "code",
   "execution_count": 35,
   "metadata": {
    "collapsed": true
   },
   "outputs": [],
   "source": [
    "sample_submission.to_csv('C:/Users/SPAI/중급/test_submission92.csv', index=False)"
   ]
  },
  {
   "cell_type": "code",
   "execution_count": 36,
   "metadata": {
    "collapsed": true
   },
   "outputs": [],
   "source": [
    "file_path4 = 'C:/Users/SPAI/중급/test_submission92.csv'"
   ]
  },
  {
   "cell_type": "code",
   "execution_count": 37,
   "metadata": {
    "collapsed": true
   },
   "outputs": [],
   "source": [
    "sub = pd.read_csv(file_path4, engine='python')"
   ]
  },
  {
   "cell_type": "code",
   "execution_count": 38,
   "metadata": {
    "collapsed": false
   },
   "outputs": [
    {
     "data": {
      "text/html": [
       "<div>\n",
       "<style scoped>\n",
       "    .dataframe tbody tr th:only-of-type {\n",
       "        vertical-align: middle;\n",
       "    }\n",
       "\n",
       "    .dataframe tbody tr th {\n",
       "        vertical-align: top;\n",
       "    }\n",
       "\n",
       "    .dataframe thead th {\n",
       "        text-align: right;\n",
       "    }\n",
       "</style>\n",
       "<table border=\"1\" class=\"dataframe\">\n",
       "  <thead>\n",
       "    <tr style=\"text-align: right;\">\n",
       "      <th></th>\n",
       "      <th>ID</th>\n",
       "      <th>type</th>\n",
       "    </tr>\n",
       "  </thead>\n",
       "  <tbody>\n",
       "    <tr>\n",
       "      <th>0</th>\n",
       "      <td>8960</td>\n",
       "      <td>3</td>\n",
       "    </tr>\n",
       "    <tr>\n",
       "      <th>1</th>\n",
       "      <td>8961</td>\n",
       "      <td>3</td>\n",
       "    </tr>\n",
       "    <tr>\n",
       "      <th>2</th>\n",
       "      <td>8962</td>\n",
       "      <td>4</td>\n",
       "    </tr>\n",
       "    <tr>\n",
       "      <th>3</th>\n",
       "      <td>8963</td>\n",
       "      <td>1</td>\n",
       "    </tr>\n",
       "    <tr>\n",
       "      <th>4</th>\n",
       "      <td>8964</td>\n",
       "      <td>2</td>\n",
       "    </tr>\n",
       "    <tr>\n",
       "      <th>...</th>\n",
       "      <td>...</td>\n",
       "      <td>...</td>\n",
       "    </tr>\n",
       "    <tr>\n",
       "      <th>2235</th>\n",
       "      <td>11195</td>\n",
       "      <td>3</td>\n",
       "    </tr>\n",
       "    <tr>\n",
       "      <th>2236</th>\n",
       "      <td>11196</td>\n",
       "      <td>2</td>\n",
       "    </tr>\n",
       "    <tr>\n",
       "      <th>2237</th>\n",
       "      <td>11197</td>\n",
       "      <td>2</td>\n",
       "    </tr>\n",
       "    <tr>\n",
       "      <th>2238</th>\n",
       "      <td>11198</td>\n",
       "      <td>1</td>\n",
       "    </tr>\n",
       "    <tr>\n",
       "      <th>2239</th>\n",
       "      <td>11199</td>\n",
       "      <td>3</td>\n",
       "    </tr>\n",
       "  </tbody>\n",
       "</table>\n",
       "<p>2240 rows × 2 columns</p>\n",
       "</div>"
      ],
      "text/plain": [
       "         ID  type\n",
       "0      8960     3\n",
       "1      8961     3\n",
       "2      8962     4\n",
       "3      8963     1\n",
       "4      8964     2\n",
       "...     ...   ...\n",
       "2235  11195     3\n",
       "2236  11196     2\n",
       "2237  11197     2\n",
       "2238  11198     1\n",
       "2239  11199     3\n",
       "\n",
       "[2240 rows x 2 columns]"
      ]
     },
     "execution_count": 38,
     "metadata": {},
     "output_type": "execute_result"
    }
   ],
   "source": [
    "sub"
   ]
  },
  {
   "cell_type": "code",
   "execution_count": 39,
   "metadata": {
    "collapsed": false
   },
   "outputs": [],
   "source": [
    "# from sklearn.metrics import f1_score\n",
    "# print('f1_score:', f1_score(X_trn, Y_trn, average='micro'))"
   ]
  },
  {
   "cell_type": "code",
   "execution_count": 40,
   "metadata": {
    "collapsed": true
   },
   "outputs": [],
   "source": [
    "# Importing Classifier Modules\n",
    "from sklearn.neighbors import KNeighborsClassifier\n",
    "from sklearn.tree import DecisionTreeClassifier\n",
    "from sklearn.ensemble import RandomForestClassifier\n",
    "from sklearn.naive_bayes import GaussianNB\n",
    "from sklearn.svm import SVC\n",
    "\n",
    "import numpy as np"
   ]
  },
  {
   "cell_type": "code",
   "execution_count": 41,
   "metadata": {
    "collapsed": true
   },
   "outputs": [],
   "source": [
    "from sklearn.model_selection import KFold\n",
    "from sklearn.model_selection import cross_val_score\n",
    "k_fold = KFold(n_splits=20, shuffle=True, random_state=100)"
   ]
  },
  {
   "cell_type": "code",
   "execution_count": 42,
   "metadata": {
    "collapsed": false
   },
   "outputs": [
    {
     "name": "stdout",
     "output_type": "stream",
     "text": [
      "[0.85491071 0.86830357 0.88169643 0.83482143 0.87723214 0.87723214\n",
      " 0.87053571 0.84821429 0.88169643 0.88839286 0.87276786 0.88169643\n",
      " 0.87723214 0.87053571 0.86607143 0.87723214 0.85714286 0.88616071\n",
      " 0.86383929 0.86607143]\n"
     ]
    }
   ],
   "source": [
    "clf = SVC()\n",
    "scoring = 'accuracy'\n",
    "score = cross_val_score(clf, X_trn, Y_trn, cv=k_fold, n_jobs=1, scoring=scoring)\n",
    "print(score)"
   ]
  },
  {
   "cell_type": "code",
   "execution_count": null,
   "metadata": {
    "collapsed": true
   },
   "outputs": [],
   "source": []
  }
 ],
 "metadata": {
  "kernelspec": {
   "display_name": "'yolo'",
   "language": "python",
   "name": "yolo"
  },
  "language_info": {
   "codemirror_mode": {
    "name": "ipython",
    "version": 3
   },
   "file_extension": ".py",
   "mimetype": "text/x-python",
   "name": "python",
   "nbconvert_exporter": "python",
   "pygments_lexer": "ipython3",
   "version": "3.6.8"
  }
 },
 "nbformat": 4,
 "nbformat_minor": 2
}
