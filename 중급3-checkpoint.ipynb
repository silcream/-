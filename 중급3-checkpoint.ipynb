{
 "cells": [
  {
   "cell_type": "code",
   "execution_count": 1,
   "id": "84bdffee",
   "metadata": {},
   "outputs": [],
   "source": [
    "import warnings\n",
    "warnings.filterwarnings(action='ignore')"
   ]
  },
  {
   "cell_type": "code",
   "execution_count": 2,
   "id": "216df03a",
   "metadata": {},
   "outputs": [],
   "source": [
    "## 데이터 전처리\n",
    "\n",
    "import pandas as pd\n",
    "import numpy as np\n",
    "import sys\n",
    "import pickle\n",
    "\n",
    "## 데이터 시각화\n",
    "import seaborn as sb\n",
    "import matplotlib.pyplot as plt\n",
    "from matplotlib import font_manager, rc\n",
    "## 딥러닝 모델링\n",
    "\n",
    "from sklearn import metrics\n",
    "from sklearn.metrics import accuracy_score\n",
    "from sklearn.metrics import classification_report, confusion_matrix\n",
    "from sklearn import tree\n",
    "from sklearn.ensemble import RandomForestClassifier\n",
    "from sklearn.linear_model import LogisticRegression\n",
    "from sklearn.ensemble import RandomForestClassifier\n",
    "from sklearn.preprocessing import MinMaxScaler\n",
    "from sklearn.preprocessing import StandardScaler\n",
    "from sklearn.model_selection import train_test_split\n",
    "from xgboost import XGBClassifier\n",
    "import joblib\n",
    "import itertools\n",
    "import missingno as msno\n",
    "import os\n",
    "import warnings\n",
    "np.set_printoptions(threshold=sys.maxsize)\n",
    "warnings.filterwarnings(action='ignore')"
   ]
  },
  {
   "cell_type": "code",
   "execution_count": 3,
   "id": "a6037342",
   "metadata": {},
   "outputs": [],
   "source": [
    "file_path = 'E:/중급/train_data.csv'\n",
    "file_path2 = 'E:/중급/test_data.csv'\n",
    "file_path3 = 'E:/중급/train_label.csv'\n",
    "datapath = 'E:/중급/'"
   ]
  },
  {
   "cell_type": "code",
   "execution_count": 4,
   "id": "1e386d50",
   "metadata": {},
   "outputs": [],
   "source": [
    "trn_df = pd.read_csv(file_path)\n",
    "tst_df = pd.read_csv(file_path2)\n",
    "lab_df = pd.read_csv(file_path3)"
   ]
  },
  {
   "cell_type": "code",
   "execution_count": 5,
   "id": "01be555c",
   "metadata": {},
   "outputs": [
    {
     "data": {
      "text/html": [
       "<div>\n",
       "<style scoped>\n",
       "    .dataframe tbody tr th:only-of-type {\n",
       "        vertical-align: middle;\n",
       "    }\n",
       "\n",
       "    .dataframe tbody tr th {\n",
       "        vertical-align: top;\n",
       "    }\n",
       "\n",
       "    .dataframe thead th {\n",
       "        text-align: right;\n",
       "    }\n",
       "</style>\n",
       "<table border=\"1\" class=\"dataframe\">\n",
       "  <thead>\n",
       "    <tr style=\"text-align: right;\">\n",
       "      <th></th>\n",
       "      <th>ID</th>\n",
       "      <th>sensor_A</th>\n",
       "      <th>sensor_B</th>\n",
       "      <th>sensor_C</th>\n",
       "    </tr>\n",
       "  </thead>\n",
       "  <tbody>\n",
       "    <tr>\n",
       "      <th>0</th>\n",
       "      <td>0.0</td>\n",
       "      <td>-0.781257</td>\n",
       "      <td>-0.368624</td>\n",
       "      <td>-0.668834</td>\n",
       "    </tr>\n",
       "    <tr>\n",
       "      <th>1</th>\n",
       "      <td>0.0</td>\n",
       "      <td>0.152001</td>\n",
       "      <td>-1.032890</td>\n",
       "      <td>0.013465</td>\n",
       "    </tr>\n",
       "    <tr>\n",
       "      <th>2</th>\n",
       "      <td>0.0</td>\n",
       "      <td>-1.815408</td>\n",
       "      <td>-0.501477</td>\n",
       "      <td>-1.103025</td>\n",
       "    </tr>\n",
       "    <tr>\n",
       "      <th>3</th>\n",
       "      <td>0.0</td>\n",
       "      <td>-0.402909</td>\n",
       "      <td>2.288443</td>\n",
       "      <td>-0.792889</td>\n",
       "    </tr>\n",
       "    <tr>\n",
       "      <th>4</th>\n",
       "      <td>0.0</td>\n",
       "      <td>-1.109159</td>\n",
       "      <td>2.819857</td>\n",
       "      <td>-0.544780</td>\n",
       "    </tr>\n",
       "    <tr>\n",
       "      <th>...</th>\n",
       "      <td>...</td>\n",
       "      <td>...</td>\n",
       "      <td>...</td>\n",
       "      <td>...</td>\n",
       "    </tr>\n",
       "    <tr>\n",
       "      <th>126</th>\n",
       "      <td>0.0</td>\n",
       "      <td>-0.175901</td>\n",
       "      <td>0.694203</td>\n",
       "      <td>-0.784106</td>\n",
       "    </tr>\n",
       "    <tr>\n",
       "      <th>127</th>\n",
       "      <td>0.0</td>\n",
       "      <td>1.841955</td>\n",
       "      <td>-0.501477</td>\n",
       "      <td>-0.970187</td>\n",
       "    </tr>\n",
       "    <tr>\n",
       "      <th>128</th>\n",
       "      <td>0.0</td>\n",
       "      <td>0.757358</td>\n",
       "      <td>-0.501477</td>\n",
       "      <td>-0.660051</td>\n",
       "    </tr>\n",
       "    <tr>\n",
       "      <th>129</th>\n",
       "      <td>0.0</td>\n",
       "      <td>0.883474</td>\n",
       "      <td>0.694203</td>\n",
       "      <td>-1.962622</td>\n",
       "    </tr>\n",
       "    <tr>\n",
       "      <th>130</th>\n",
       "      <td>0.0</td>\n",
       "      <td>2.245526</td>\n",
       "      <td>0.561350</td>\n",
       "      <td>-0.598024</td>\n",
       "    </tr>\n",
       "  </tbody>\n",
       "</table>\n",
       "<p>131 rows × 4 columns</p>\n",
       "</div>"
      ],
      "text/plain": [
       "      ID  sensor_A  sensor_B  sensor_C\n",
       "0    0.0 -0.781257 -0.368624 -0.668834\n",
       "1    0.0  0.152001 -1.032890  0.013465\n",
       "2    0.0 -1.815408 -0.501477 -1.103025\n",
       "3    0.0 -0.402909  2.288443 -0.792889\n",
       "4    0.0 -1.109159  2.819857 -0.544780\n",
       "..   ...       ...       ...       ...\n",
       "126  0.0 -0.175901  0.694203 -0.784106\n",
       "127  0.0  1.841955 -0.501477 -0.970187\n",
       "128  0.0  0.757358 -0.501477 -0.660051\n",
       "129  0.0  0.883474  0.694203 -1.962622\n",
       "130  0.0  2.245526  0.561350 -0.598024\n",
       "\n",
       "[131 rows x 4 columns]"
      ]
     },
     "execution_count": 5,
     "metadata": {},
     "output_type": "execute_result"
    }
   ],
   "source": [
    "for i in range(8960):\n",
    "    for j in trn_df[trn_df['ID'] == j]:\n",
    "        print(sensor_A)"
   ]
  },
  {
   "cell_type": "code",
   "execution_count": 6,
   "id": "76a13d50",
   "metadata": {},
   "outputs": [],
   "source": [
    "trn_df = trn_df.drop(['ID'],axis=1)\n",
    "tst_df = tst_df.drop(['ID'],axis=1)\n",
    "lab_df = lab_df.drop(['ID'],axis=1)"
   ]
  },
  {
   "cell_type": "code",
   "execution_count": 7,
   "id": "de89c9d5",
   "metadata": {},
   "outputs": [],
   "source": [
    "scaler = MinMaxScaler()"
   ]
  },
  {
   "cell_type": "code",
   "execution_count": 8,
   "id": "708b860e",
   "metadata": {},
   "outputs": [
    {
     "name": "stdout",
     "output_type": "stream",
     "text": [
      "1173760 [-3.6195614 -5.8968425 -4.385735 ] [3.6801076 4.599791  4.074743 ] (0, 1)\n"
     ]
    }
   ],
   "source": [
    "file_path = scaler.fit(trn_df)\n",
    "print(scaler.n_samples_seen_, scaler.data_min_, scaler.data_max_, scaler.feature_range)"
   ]
  },
  {
   "cell_type": "code",
   "execution_count": null,
   "id": "926e0c4f",
   "metadata": {},
   "outputs": [],
   "source": []
  },
  {
   "cell_type": "code",
   "execution_count": null,
   "id": "5d9feda8",
   "metadata": {},
   "outputs": [],
   "source": []
  },
  {
   "cell_type": "code",
   "execution_count": 9,
   "id": "e7f6fae8",
   "metadata": {},
   "outputs": [],
   "source": [
    "df_values = trn_df.values\n",
    "datalist = []\n",
    "datalist.append(df_values)\n",
    "data_array = np.array(trn_df)\n",
    "data_reshape = data_array.reshape(8960, 131*3)"
   ]
  },
  {
   "cell_type": "code",
   "execution_count": 10,
   "id": "f2c48594",
   "metadata": {},
   "outputs": [],
   "source": [
    "df_values1 = tst_df.values\n",
    "datalist1 = []\n",
    "datalist1.append(df_values1)\n",
    "data_array1 = np.array(tst_df)\n",
    "data_reshape1 = data_array1.reshape(2240, 131*3)"
   ]
  },
  {
   "cell_type": "code",
   "execution_count": 11,
   "id": "c04f7778",
   "metadata": {},
   "outputs": [],
   "source": [
    "trn_df = data_reshape\n",
    "tst_df = data_reshape1"
   ]
  },
  {
   "cell_type": "code",
   "execution_count": 12,
   "id": "de220d1a",
   "metadata": {},
   "outputs": [],
   "source": [
    "X_trn = trn_df\n",
    "Y_trn = lab_df\n",
    "\n",
    "X_tst = tst_df"
   ]
  },
  {
   "cell_type": "code",
   "execution_count": 13,
   "id": "6ac07c37",
   "metadata": {},
   "outputs": [
    {
     "data": {
      "text/plain": [
       "((8960, 393), (8960, 1))"
      ]
     },
     "execution_count": 13,
     "metadata": {},
     "output_type": "execute_result"
    }
   ],
   "source": [
    "X_trn.shape, Y_trn.shape"
   ]
  },
  {
   "cell_type": "code",
   "execution_count": 14,
   "id": "b85d8122",
   "metadata": {},
   "outputs": [
    {
     "data": {
      "text/plain": [
       "(2240, 393)"
      ]
     },
     "execution_count": 14,
     "metadata": {},
     "output_type": "execute_result"
    }
   ],
   "source": [
    "X_tst.shape"
   ]
  },
  {
   "cell_type": "code",
   "execution_count": 15,
   "id": "06b8ed63",
   "metadata": {},
   "outputs": [],
   "source": [
    "from sklearn.ensemble import RandomForestClassifier\n",
    "from sklearn.metrics import mean_squared_error\n",
    "from sklearn.model_selection import cross_val_score, train_test_split"
   ]
  },
  {
   "cell_type": "code",
   "execution_count": 16,
   "id": "32f8b400",
   "metadata": {},
   "outputs": [],
   "source": [
    "model = RandomForestClassifier(n_estimators=200)"
   ]
  },
  {
   "cell_type": "code",
   "execution_count": 17,
   "id": "22670ebe",
   "metadata": {},
   "outputs": [],
   "source": [
    "X_train, X_test, y_train, y_test = train_test_split(X_trn, Y_trn, test_size=0.1, random_state=100)"
   ]
  },
  {
   "cell_type": "code",
   "execution_count": 18,
   "id": "5e6deec5",
   "metadata": {},
   "outputs": [
    {
     "name": "stdout",
     "output_type": "stream",
     "text": [
      "(8064, 393) (896, 393) (8064, 1) (896, 1)\n"
     ]
    }
   ],
   "source": [
    "print(X_train.shape, X_test.shape, y_train.shape, y_test.shape)"
   ]
  },
  {
   "cell_type": "code",
   "execution_count": 19,
   "id": "91ede3c2",
   "metadata": {},
   "outputs": [
    {
     "data": {
      "text/plain": [
       "RandomForestClassifier(n_estimators=200)"
      ]
     },
     "execution_count": 19,
     "metadata": {},
     "output_type": "execute_result"
    }
   ],
   "source": [
    "model.fit(X_train, y_train)"
   ]
  },
  {
   "cell_type": "code",
   "execution_count": 20,
   "id": "d59a5701",
   "metadata": {},
   "outputs": [],
   "source": [
    "y_predict = model.predict(X_test)"
   ]
  },
  {
   "cell_type": "code",
   "execution_count": 21,
   "id": "f1d763c7",
   "metadata": {},
   "outputs": [],
   "source": [
    "# mean_squared_error(y_test, y_predict, squared=False)"
   ]
  },
  {
   "cell_type": "code",
   "execution_count": 22,
   "id": "4055d7ac",
   "metadata": {},
   "outputs": [
    {
     "name": "stdout",
     "output_type": "stream",
     "text": [
      "accuracy_score :  0.9832589285714286\n"
     ]
    }
   ],
   "source": [
    "acc = accuracy_score(y_test, y_predict)\n",
    "print('accuracy_score : ',acc)"
   ]
  },
  {
   "cell_type": "code",
   "execution_count": 23,
   "id": "1418a0cd",
   "metadata": {},
   "outputs": [],
   "source": [
    "test_prediction = model.predict(X_tst)"
   ]
  },
  {
   "cell_type": "code",
   "execution_count": 24,
   "id": "2a2cc3d1",
   "metadata": {},
   "outputs": [],
   "source": [
    "sample = os.path.join(datapath, 'answer_sample.csv')"
   ]
  },
  {
   "cell_type": "code",
   "execution_count": 25,
   "id": "836df6be",
   "metadata": {},
   "outputs": [],
   "source": [
    "sample_submission = pd.read_csv(sample)"
   ]
  },
  {
   "cell_type": "code",
   "execution_count": 26,
   "id": "c3fc12ba",
   "metadata": {},
   "outputs": [
    {
     "data": {
      "text/html": [
       "<div>\n",
       "<style scoped>\n",
       "    .dataframe tbody tr th:only-of-type {\n",
       "        vertical-align: middle;\n",
       "    }\n",
       "\n",
       "    .dataframe tbody tr th {\n",
       "        vertical-align: top;\n",
       "    }\n",
       "\n",
       "    .dataframe thead th {\n",
       "        text-align: right;\n",
       "    }\n",
       "</style>\n",
       "<table border=\"1\" class=\"dataframe\">\n",
       "  <thead>\n",
       "    <tr style=\"text-align: right;\">\n",
       "      <th></th>\n",
       "      <th>ID</th>\n",
       "      <th>type</th>\n",
       "    </tr>\n",
       "  </thead>\n",
       "  <tbody>\n",
       "    <tr>\n",
       "      <th>0</th>\n",
       "      <td>8960</td>\n",
       "      <td>0</td>\n",
       "    </tr>\n",
       "    <tr>\n",
       "      <th>1</th>\n",
       "      <td>8961</td>\n",
       "      <td>0</td>\n",
       "    </tr>\n",
       "    <tr>\n",
       "      <th>2</th>\n",
       "      <td>8962</td>\n",
       "      <td>0</td>\n",
       "    </tr>\n",
       "    <tr>\n",
       "      <th>3</th>\n",
       "      <td>8963</td>\n",
       "      <td>0</td>\n",
       "    </tr>\n",
       "    <tr>\n",
       "      <th>4</th>\n",
       "      <td>8964</td>\n",
       "      <td>0</td>\n",
       "    </tr>\n",
       "    <tr>\n",
       "      <th>...</th>\n",
       "      <td>...</td>\n",
       "      <td>...</td>\n",
       "    </tr>\n",
       "    <tr>\n",
       "      <th>2235</th>\n",
       "      <td>11195</td>\n",
       "      <td>0</td>\n",
       "    </tr>\n",
       "    <tr>\n",
       "      <th>2236</th>\n",
       "      <td>11196</td>\n",
       "      <td>0</td>\n",
       "    </tr>\n",
       "    <tr>\n",
       "      <th>2237</th>\n",
       "      <td>11197</td>\n",
       "      <td>0</td>\n",
       "    </tr>\n",
       "    <tr>\n",
       "      <th>2238</th>\n",
       "      <td>11198</td>\n",
       "      <td>0</td>\n",
       "    </tr>\n",
       "    <tr>\n",
       "      <th>2239</th>\n",
       "      <td>11199</td>\n",
       "      <td>0</td>\n",
       "    </tr>\n",
       "  </tbody>\n",
       "</table>\n",
       "<p>2240 rows × 2 columns</p>\n",
       "</div>"
      ],
      "text/plain": [
       "         ID  type\n",
       "0      8960     0\n",
       "1      8961     0\n",
       "2      8962     0\n",
       "3      8963     0\n",
       "4      8964     0\n",
       "...     ...   ...\n",
       "2235  11195     0\n",
       "2236  11196     0\n",
       "2237  11197     0\n",
       "2238  11198     0\n",
       "2239  11199     0\n",
       "\n",
       "[2240 rows x 2 columns]"
      ]
     },
     "execution_count": 26,
     "metadata": {},
     "output_type": "execute_result"
    }
   ],
   "source": [
    "sample_submission"
   ]
  },
  {
   "cell_type": "code",
   "execution_count": 27,
   "id": "3219ae33",
   "metadata": {},
   "outputs": [],
   "source": [
    "sample_submission['type'] = test_prediction"
   ]
  },
  {
   "cell_type": "code",
   "execution_count": 28,
   "id": "8b1bd4e0",
   "metadata": {},
   "outputs": [],
   "source": [
    "sample_submission.to_csv('E:/중급/test_submission3.csv', index=False)"
   ]
  },
  {
   "cell_type": "code",
   "execution_count": 29,
   "id": "9313fbb4",
   "metadata": {},
   "outputs": [
    {
     "ename": "NameError",
     "evalue": "name 'f1_score' is not defined",
     "output_type": "error",
     "traceback": [
      "\u001b[1;31m---------------------------------------------------------------------------\u001b[0m",
      "\u001b[1;31mNameError\u001b[0m                                 Traceback (most recent call last)",
      "\u001b[1;32m~\\AppData\\Local\\Temp/ipykernel_11244/726241151.py\u001b[0m in \u001b[0;36m<module>\u001b[1;34m\u001b[0m\n\u001b[1;32m----> 1\u001b[1;33m \u001b[0mf1_score\u001b[0m\u001b[1;33m(\u001b[0m\u001b[0my_true\u001b[0m\u001b[1;33m,\u001b[0m \u001b[0my_pred\u001b[0m\u001b[1;33m,\u001b[0m \u001b[0maverage\u001b[0m\u001b[1;33m=\u001b[0m\u001b[1;34m'macro'\u001b[0m\u001b[1;33m)\u001b[0m\u001b[1;33m\u001b[0m\u001b[1;33m\u001b[0m\u001b[0m\n\u001b[0m",
      "\u001b[1;31mNameError\u001b[0m: name 'f1_score' is not defined"
     ]
    }
   ],
   "source": [
    "f1_score(y_true, y_pred, average='macro')"
   ]
  }
 ],
 "metadata": {
  "kernelspec": {
   "display_name": "sseun",
   "language": "python",
   "name": "seun"
  },
  "language_info": {
   "codemirror_mode": {
    "name": "ipython",
    "version": 3
   },
   "file_extension": ".py",
   "mimetype": "text/x-python",
   "name": "python",
   "nbconvert_exporter": "python",
   "pygments_lexer": "ipython3",
   "version": "3.7.10"
  }
 },
 "nbformat": 4,
 "nbformat_minor": 5
}
