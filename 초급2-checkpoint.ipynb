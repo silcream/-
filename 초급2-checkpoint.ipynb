{
 "cells": [
  {
   "cell_type": "code",
   "execution_count": 5,
   "id": "551ed7bd",
   "metadata": {},
   "outputs": [],
   "source": [
    "import os\n",
    "import numpy as np\n",
    "import matplotlib as plt\n",
    "import pandas as pd\n",
    "import missingno as msno\n",
    "\n",
    "%matplotlib inline"
   ]
  },
  {
   "cell_type": "code",
   "execution_count": 6,
   "id": "464bc9d6",
   "metadata": {},
   "outputs": [],
   "source": [
    "# filepath\n",
    "datapath = './Data'\n",
    "trn_path = os.path.join(datapath, 'train_data.csv')\n",
    "tst_path = os.path.join(datapath, 'test_data.csv')"
   ]
  },
  {
   "cell_type": "code",
   "execution_count": 7,
   "id": "b2234946",
   "metadata": {},
   "outputs": [],
   "source": [
    "# read file\n",
    "trn_df = pd.read_csv(trn_path)\n",
    "tst_df = pd.read_csv(tst_path)"
   ]
  },
  {
   "cell_type": "markdown",
   "id": "f390f9b6",
   "metadata": {},
   "source": [
    "## 데이터 훑어보기"
   ]
  },
  {
   "cell_type": "code",
   "execution_count": 14,
   "id": "694a1619",
   "metadata": {},
   "outputs": [
    {
     "data": {
      "text/html": [
       "<div>\n",
       "<style scoped>\n",
       "    .dataframe tbody tr th:only-of-type {\n",
       "        vertical-align: middle;\n",
       "    }\n",
       "\n",
       "    .dataframe tbody tr th {\n",
       "        vertical-align: top;\n",
       "    }\n",
       "\n",
       "    .dataframe thead th {\n",
       "        text-align: right;\n",
       "    }\n",
       "</style>\n",
       "<table border=\"1\" class=\"dataframe\">\n",
       "  <thead>\n",
       "    <tr style=\"text-align: right;\">\n",
       "      <th></th>\n",
       "      <th>MACHINE_NO</th>\n",
       "      <th>EQUIP1</th>\n",
       "      <th>EQUIP2</th>\n",
       "      <th>EQUIP3</th>\n",
       "      <th>EQUIP4</th>\n",
       "      <th>VAL1</th>\n",
       "      <th>VAL2</th>\n",
       "      <th>OUT</th>\n",
       "    </tr>\n",
       "  </thead>\n",
       "  <tbody>\n",
       "    <tr>\n",
       "      <th>0</th>\n",
       "      <td>13</td>\n",
       "      <td>top_in_3</td>\n",
       "      <td>bot_in_24</td>\n",
       "      <td>top_out_8</td>\n",
       "      <td>bot_out_2</td>\n",
       "      <td>-4.3303</td>\n",
       "      <td>11.1340</td>\n",
       "      <td>3.172</td>\n",
       "    </tr>\n",
       "    <tr>\n",
       "      <th>1</th>\n",
       "      <td>13</td>\n",
       "      <td>top_in_4</td>\n",
       "      <td>bot_in_30</td>\n",
       "      <td>top_out_47</td>\n",
       "      <td>bot_out_42</td>\n",
       "      <td>-4.3359</td>\n",
       "      <td>10.4282</td>\n",
       "      <td>2.952</td>\n",
       "    </tr>\n",
       "    <tr>\n",
       "      <th>2</th>\n",
       "      <td>3</td>\n",
       "      <td>top_in_2</td>\n",
       "      <td>bot_in_18</td>\n",
       "      <td>top_out_39</td>\n",
       "      <td>bot_out_24</td>\n",
       "      <td>10.2006</td>\n",
       "      <td>-3.3653</td>\n",
       "      <td>-2.496</td>\n",
       "    </tr>\n",
       "    <tr>\n",
       "      <th>3</th>\n",
       "      <td>25</td>\n",
       "      <td>top_in_2</td>\n",
       "      <td>bot_in_23</td>\n",
       "      <td>top_out_28</td>\n",
       "      <td>bot_out_12</td>\n",
       "      <td>10.0852</td>\n",
       "      <td>-3.3595</td>\n",
       "      <td>-1.396</td>\n",
       "    </tr>\n",
       "    <tr>\n",
       "      <th>4</th>\n",
       "      <td>1</td>\n",
       "      <td>top_in_3</td>\n",
       "      <td>bot_in_10</td>\n",
       "      <td>top_out_2</td>\n",
       "      <td>bot_out_1</td>\n",
       "      <td>-4.3219</td>\n",
       "      <td>10.4198</td>\n",
       "      <td>2.928</td>\n",
       "    </tr>\n",
       "    <tr>\n",
       "      <th>5</th>\n",
       "      <td>19</td>\n",
       "      <td>top_in_2</td>\n",
       "      <td>bot_in_1</td>\n",
       "      <td>top_out_41</td>\n",
       "      <td>bot_out_29</td>\n",
       "      <td>-3.3534</td>\n",
       "      <td>10.5780</td>\n",
       "      <td>-4.048</td>\n",
       "    </tr>\n",
       "    <tr>\n",
       "      <th>6</th>\n",
       "      <td>19</td>\n",
       "      <td>top_in_1</td>\n",
       "      <td>bot_in_4</td>\n",
       "      <td>top_out_23</td>\n",
       "      <td>bot_out_47</td>\n",
       "      <td>-3.4954</td>\n",
       "      <td>9.7918</td>\n",
       "      <td>1.230</td>\n",
       "    </tr>\n",
       "    <tr>\n",
       "      <th>7</th>\n",
       "      <td>31</td>\n",
       "      <td>top_in_1</td>\n",
       "      <td>bot_in_4</td>\n",
       "      <td>top_out_17</td>\n",
       "      <td>bot_out_51</td>\n",
       "      <td>10.4181</td>\n",
       "      <td>-4.3437</td>\n",
       "      <td>0.702</td>\n",
       "    </tr>\n",
       "    <tr>\n",
       "      <th>8</th>\n",
       "      <td>3</td>\n",
       "      <td>top_in_2</td>\n",
       "      <td>bot_in_7</td>\n",
       "      <td>top_out_49</td>\n",
       "      <td>bot_out_45</td>\n",
       "      <td>-3.3639</td>\n",
       "      <td>10.7099</td>\n",
       "      <td>-4.648</td>\n",
       "    </tr>\n",
       "    <tr>\n",
       "      <th>9</th>\n",
       "      <td>17</td>\n",
       "      <td>top_in_1</td>\n",
       "      <td>bot_in_3</td>\n",
       "      <td>top_out_12</td>\n",
       "      <td>bot_out_27</td>\n",
       "      <td>-3.4785</td>\n",
       "      <td>9.9535</td>\n",
       "      <td>1.228</td>\n",
       "    </tr>\n",
       "    <tr>\n",
       "      <th>10</th>\n",
       "      <td>11</td>\n",
       "      <td>top_in_2</td>\n",
       "      <td>bot_in_23</td>\n",
       "      <td>top_out_30</td>\n",
       "      <td>bot_out_14</td>\n",
       "      <td>10.5110</td>\n",
       "      <td>-3.3537</td>\n",
       "      <td>-3.598</td>\n",
       "    </tr>\n",
       "    <tr>\n",
       "      <th>11</th>\n",
       "      <td>18</td>\n",
       "      <td>top_in_1</td>\n",
       "      <td>bot_in_32</td>\n",
       "      <td>top_out_7</td>\n",
       "      <td>bot_out_20</td>\n",
       "      <td>-3.4769</td>\n",
       "      <td>9.5444</td>\n",
       "      <td>2.952</td>\n",
       "    </tr>\n",
       "    <tr>\n",
       "      <th>12</th>\n",
       "      <td>2</td>\n",
       "      <td>top_in_3</td>\n",
       "      <td>bot_in_16</td>\n",
       "      <td>top_out_8</td>\n",
       "      <td>bot_out_2</td>\n",
       "      <td>10.3853</td>\n",
       "      <td>-4.3244</td>\n",
       "      <td>2.902</td>\n",
       "    </tr>\n",
       "    <tr>\n",
       "      <th>13</th>\n",
       "      <td>35</td>\n",
       "      <td>top_in_1</td>\n",
       "      <td>bot_in_4</td>\n",
       "      <td>top_out_14</td>\n",
       "      <td>bot_out_37</td>\n",
       "      <td>-3.4836</td>\n",
       "      <td>9.7662</td>\n",
       "      <td>1.500</td>\n",
       "    </tr>\n",
       "    <tr>\n",
       "      <th>14</th>\n",
       "      <td>4</td>\n",
       "      <td>top_in_1</td>\n",
       "      <td>bot_in_5</td>\n",
       "      <td>top_out_11</td>\n",
       "      <td>bot_out_25</td>\n",
       "      <td>-3.4807</td>\n",
       "      <td>9.9049</td>\n",
       "      <td>0.578</td>\n",
       "    </tr>\n",
       "    <tr>\n",
       "      <th>15</th>\n",
       "      <td>18</td>\n",
       "      <td>top_in_1</td>\n",
       "      <td>bot_in_8</td>\n",
       "      <td>top_out_25</td>\n",
       "      <td>bot_out_44</td>\n",
       "      <td>-3.4900</td>\n",
       "      <td>9.7822</td>\n",
       "      <td>0.578</td>\n",
       "    </tr>\n",
       "    <tr>\n",
       "      <th>16</th>\n",
       "      <td>7</td>\n",
       "      <td>top_in_2</td>\n",
       "      <td>bot_in_1</td>\n",
       "      <td>top_out_30</td>\n",
       "      <td>bot_out_14</td>\n",
       "      <td>-3.3384</td>\n",
       "      <td>10.4488</td>\n",
       "      <td>-3.498</td>\n",
       "    </tr>\n",
       "    <tr>\n",
       "      <th>17</th>\n",
       "      <td>13</td>\n",
       "      <td>top_in_1</td>\n",
       "      <td>bot_in_5</td>\n",
       "      <td>top_out_5</td>\n",
       "      <td>bot_out_50</td>\n",
       "      <td>9.8197</td>\n",
       "      <td>-3.5004</td>\n",
       "      <td>1.002</td>\n",
       "    </tr>\n",
       "    <tr>\n",
       "      <th>18</th>\n",
       "      <td>14</td>\n",
       "      <td>top_in_2</td>\n",
       "      <td>bot_in_1</td>\n",
       "      <td>top_out_6</td>\n",
       "      <td>bot_out_4</td>\n",
       "      <td>-3.3512</td>\n",
       "      <td>10.1060</td>\n",
       "      <td>-2.072</td>\n",
       "    </tr>\n",
       "    <tr>\n",
       "      <th>19</th>\n",
       "      <td>35</td>\n",
       "      <td>top_in_2</td>\n",
       "      <td>bot_in_25</td>\n",
       "      <td>top_out_39</td>\n",
       "      <td>bot_out_24</td>\n",
       "      <td>-3.3750</td>\n",
       "      <td>10.3182</td>\n",
       "      <td>-2.448</td>\n",
       "    </tr>\n",
       "    <tr>\n",
       "      <th>20</th>\n",
       "      <td>1</td>\n",
       "      <td>top_in_2</td>\n",
       "      <td>bot_in_9</td>\n",
       "      <td>top_out_22</td>\n",
       "      <td>bot_out_9</td>\n",
       "      <td>-3.3765</td>\n",
       "      <td>9.9922</td>\n",
       "      <td>-0.774</td>\n",
       "    </tr>\n",
       "    <tr>\n",
       "      <th>21</th>\n",
       "      <td>29</td>\n",
       "      <td>top_in_1</td>\n",
       "      <td>bot_in_19</td>\n",
       "      <td>top_out_23</td>\n",
       "      <td>bot_out_47</td>\n",
       "      <td>-3.5075</td>\n",
       "      <td>9.7829</td>\n",
       "      <td>1.380</td>\n",
       "    </tr>\n",
       "    <tr>\n",
       "      <th>22</th>\n",
       "      <td>37</td>\n",
       "      <td>top_in_1</td>\n",
       "      <td>bot_in_4</td>\n",
       "      <td>top_out_10</td>\n",
       "      <td>bot_out_21</td>\n",
       "      <td>-3.4654</td>\n",
       "      <td>10.0051</td>\n",
       "      <td>0.126</td>\n",
       "    </tr>\n",
       "    <tr>\n",
       "      <th>23</th>\n",
       "      <td>18</td>\n",
       "      <td>top_in_1</td>\n",
       "      <td>bot_in_21</td>\n",
       "      <td>top_out_11</td>\n",
       "      <td>bot_out_25</td>\n",
       "      <td>-3.4703</td>\n",
       "      <td>9.9114</td>\n",
       "      <td>0.526</td>\n",
       "    </tr>\n",
       "    <tr>\n",
       "      <th>24</th>\n",
       "      <td>1</td>\n",
       "      <td>top_in_1</td>\n",
       "      <td>bot_in_4</td>\n",
       "      <td>top_out_3</td>\n",
       "      <td>bot_out_40</td>\n",
       "      <td>9.7525</td>\n",
       "      <td>-3.4941</td>\n",
       "      <td>1.802</td>\n",
       "    </tr>\n",
       "    <tr>\n",
       "      <th>25</th>\n",
       "      <td>4</td>\n",
       "      <td>top_in_2</td>\n",
       "      <td>bot_in_20</td>\n",
       "      <td>top_out_6</td>\n",
       "      <td>bot_out_17</td>\n",
       "      <td>10.2482</td>\n",
       "      <td>-3.3868</td>\n",
       "      <td>-2.024</td>\n",
       "    </tr>\n",
       "    <tr>\n",
       "      <th>26</th>\n",
       "      <td>31</td>\n",
       "      <td>top_in_1</td>\n",
       "      <td>bot_in_3</td>\n",
       "      <td>top_out_17</td>\n",
       "      <td>bot_out_51</td>\n",
       "      <td>9.9380</td>\n",
       "      <td>-3.4979</td>\n",
       "      <td>0.326</td>\n",
       "    </tr>\n",
       "    <tr>\n",
       "      <th>27</th>\n",
       "      <td>26</td>\n",
       "      <td>top_in_3</td>\n",
       "      <td>bot_in_16</td>\n",
       "      <td>top_out_8</td>\n",
       "      <td>bot_out_2</td>\n",
       "      <td>10.3881</td>\n",
       "      <td>-4.3380</td>\n",
       "      <td>2.952</td>\n",
       "    </tr>\n",
       "    <tr>\n",
       "      <th>28</th>\n",
       "      <td>35</td>\n",
       "      <td>top_in_1</td>\n",
       "      <td>bot_in_12</td>\n",
       "      <td>top_out_4</td>\n",
       "      <td>bot_out_23</td>\n",
       "      <td>-3.4751</td>\n",
       "      <td>9.9742</td>\n",
       "      <td>2.828</td>\n",
       "    </tr>\n",
       "    <tr>\n",
       "      <th>29</th>\n",
       "      <td>13</td>\n",
       "      <td>top_in_2</td>\n",
       "      <td>bot_in_7</td>\n",
       "      <td>top_out_32</td>\n",
       "      <td>bot_out_15</td>\n",
       "      <td>10.2094</td>\n",
       "      <td>-3.3727</td>\n",
       "      <td>-2.022</td>\n",
       "    </tr>\n",
       "    <tr>\n",
       "      <th>30</th>\n",
       "      <td>3</td>\n",
       "      <td>top_in_1</td>\n",
       "      <td>bot_in_22</td>\n",
       "      <td>top_out_1</td>\n",
       "      <td>bot_out_3</td>\n",
       "      <td>-3.5055</td>\n",
       "      <td>9.6209</td>\n",
       "      <td>2.676</td>\n",
       "    </tr>\n",
       "    <tr>\n",
       "      <th>31</th>\n",
       "      <td>18</td>\n",
       "      <td>top_in_2</td>\n",
       "      <td>bot_in_11</td>\n",
       "      <td>top_out_22</td>\n",
       "      <td>bot_out_9</td>\n",
       "      <td>10.9097</td>\n",
       "      <td>-4.3343</td>\n",
       "      <td>-0.922</td>\n",
       "    </tr>\n",
       "    <tr>\n",
       "      <th>32</th>\n",
       "      <td>12</td>\n",
       "      <td>top_in_2</td>\n",
       "      <td>bot_in_11</td>\n",
       "      <td>top_out_26</td>\n",
       "      <td>bot_out_11</td>\n",
       "      <td>-3.3516</td>\n",
       "      <td>10.1334</td>\n",
       "      <td>-1.572</td>\n",
       "    </tr>\n",
       "    <tr>\n",
       "      <th>33</th>\n",
       "      <td>25</td>\n",
       "      <td>top_in_2</td>\n",
       "      <td>bot_in_17</td>\n",
       "      <td>top_out_6</td>\n",
       "      <td>bot_out_4</td>\n",
       "      <td>10.1864</td>\n",
       "      <td>-3.3568</td>\n",
       "      <td>-2.048</td>\n",
       "    </tr>\n",
       "    <tr>\n",
       "      <th>34</th>\n",
       "      <td>27</td>\n",
       "      <td>top_in_3</td>\n",
       "      <td>bot_in_6</td>\n",
       "      <td>top_out_8</td>\n",
       "      <td>bot_out_2</td>\n",
       "      <td>-4.3231</td>\n",
       "      <td>10.3923</td>\n",
       "      <td>2.952</td>\n",
       "    </tr>\n",
       "    <tr>\n",
       "      <th>35</th>\n",
       "      <td>14</td>\n",
       "      <td>top_in_1</td>\n",
       "      <td>bot_in_4</td>\n",
       "      <td>top_out_20</td>\n",
       "      <td>bot_out_26</td>\n",
       "      <td>-4.3421</td>\n",
       "      <td>11.2891</td>\n",
       "      <td>0.052</td>\n",
       "    </tr>\n",
       "    <tr>\n",
       "      <th>36</th>\n",
       "      <td>36</td>\n",
       "      <td>top_in_2</td>\n",
       "      <td>bot_in_13</td>\n",
       "      <td>top_out_32</td>\n",
       "      <td>bot_out_15</td>\n",
       "      <td>-3.3644</td>\n",
       "      <td>10.2265</td>\n",
       "      <td>-1.848</td>\n",
       "    </tr>\n",
       "    <tr>\n",
       "      <th>37</th>\n",
       "      <td>16</td>\n",
       "      <td>top_in_2</td>\n",
       "      <td>bot_in_17</td>\n",
       "      <td>top_out_36</td>\n",
       "      <td>bot_out_18</td>\n",
       "      <td>-3.3480</td>\n",
       "      <td>9.9801</td>\n",
       "      <td>-0.948</td>\n",
       "    </tr>\n",
       "    <tr>\n",
       "      <th>38</th>\n",
       "      <td>31</td>\n",
       "      <td>top_in_1</td>\n",
       "      <td>bot_in_2</td>\n",
       "      <td>top_out_33</td>\n",
       "      <td>bot_out_35</td>\n",
       "      <td>-3.4892</td>\n",
       "      <td>10.1204</td>\n",
       "      <td>-0.648</td>\n",
       "    </tr>\n",
       "    <tr>\n",
       "      <th>39</th>\n",
       "      <td>28</td>\n",
       "      <td>top_in_1</td>\n",
       "      <td>bot_in_4</td>\n",
       "      <td>top_out_9</td>\n",
       "      <td>bot_out_33</td>\n",
       "      <td>-3.4889</td>\n",
       "      <td>9.7036</td>\n",
       "      <td>1.952</td>\n",
       "    </tr>\n",
       "    <tr>\n",
       "      <th>40</th>\n",
       "      <td>31</td>\n",
       "      <td>top_in_1</td>\n",
       "      <td>bot_in_2</td>\n",
       "      <td>top_out_9</td>\n",
       "      <td>bot_out_33</td>\n",
       "      <td>-3.4915</td>\n",
       "      <td>9.7162</td>\n",
       "      <td>1.976</td>\n",
       "    </tr>\n",
       "    <tr>\n",
       "      <th>41</th>\n",
       "      <td>31</td>\n",
       "      <td>top_in_2</td>\n",
       "      <td>bot_in_23</td>\n",
       "      <td>top_out_26</td>\n",
       "      <td>bot_out_11</td>\n",
       "      <td>-3.3637</td>\n",
       "      <td>10.1258</td>\n",
       "      <td>-1.774</td>\n",
       "    </tr>\n",
       "    <tr>\n",
       "      <th>42</th>\n",
       "      <td>35</td>\n",
       "      <td>top_in_2</td>\n",
       "      <td>bot_in_18</td>\n",
       "      <td>top_out_26</td>\n",
       "      <td>bot_out_11</td>\n",
       "      <td>-3.3998</td>\n",
       "      <td>10.1348</td>\n",
       "      <td>-1.322</td>\n",
       "    </tr>\n",
       "    <tr>\n",
       "      <th>43</th>\n",
       "      <td>12</td>\n",
       "      <td>top_in_1</td>\n",
       "      <td>bot_in_4</td>\n",
       "      <td>top_out_11</td>\n",
       "      <td>bot_out_25</td>\n",
       "      <td>-3.4870</td>\n",
       "      <td>9.8773</td>\n",
       "      <td>0.802</td>\n",
       "    </tr>\n",
       "    <tr>\n",
       "      <th>44</th>\n",
       "      <td>32</td>\n",
       "      <td>top_in_1</td>\n",
       "      <td>bot_in_3</td>\n",
       "      <td>top_out_17</td>\n",
       "      <td>bot_out_36</td>\n",
       "      <td>-3.4897</td>\n",
       "      <td>9.9440</td>\n",
       "      <td>0.502</td>\n",
       "    </tr>\n",
       "    <tr>\n",
       "      <th>45</th>\n",
       "      <td>26</td>\n",
       "      <td>top_in_2</td>\n",
       "      <td>bot_in_11</td>\n",
       "      <td>top_out_44</td>\n",
       "      <td>bot_out_31</td>\n",
       "      <td>10.5152</td>\n",
       "      <td>-3.3638</td>\n",
       "      <td>-3.948</td>\n",
       "    </tr>\n",
       "    <tr>\n",
       "      <th>46</th>\n",
       "      <td>26</td>\n",
       "      <td>top_in_1</td>\n",
       "      <td>bot_in_27</td>\n",
       "      <td>top_out_3</td>\n",
       "      <td>bot_out_16</td>\n",
       "      <td>-3.4953</td>\n",
       "      <td>9.7549</td>\n",
       "      <td>1.552</td>\n",
       "    </tr>\n",
       "    <tr>\n",
       "      <th>47</th>\n",
       "      <td>7</td>\n",
       "      <td>top_in_1</td>\n",
       "      <td>bot_in_3</td>\n",
       "      <td>top_out_4</td>\n",
       "      <td>bot_out_23</td>\n",
       "      <td>-3.4872</td>\n",
       "      <td>9.5862</td>\n",
       "      <td>2.880</td>\n",
       "    </tr>\n",
       "    <tr>\n",
       "      <th>48</th>\n",
       "      <td>29</td>\n",
       "      <td>top_in_1</td>\n",
       "      <td>bot_in_12</td>\n",
       "      <td>top_out_1</td>\n",
       "      <td>bot_out_3</td>\n",
       "      <td>-3.5078</td>\n",
       "      <td>9.5879</td>\n",
       "      <td>3.048</td>\n",
       "    </tr>\n",
       "    <tr>\n",
       "      <th>49</th>\n",
       "      <td>36</td>\n",
       "      <td>top_in_1</td>\n",
       "      <td>bot_in_2</td>\n",
       "      <td>top_out_33</td>\n",
       "      <td>bot_out_35</td>\n",
       "      <td>-3.4738</td>\n",
       "      <td>10.0988</td>\n",
       "      <td>-0.500</td>\n",
       "    </tr>\n",
       "  </tbody>\n",
       "</table>\n",
       "</div>"
      ],
      "text/plain": [
       "    MACHINE_NO    EQUIP1     EQUIP2      EQUIP3      EQUIP4     VAL1     VAL2  \\\n",
       "0           13  top_in_3  bot_in_24   top_out_8   bot_out_2  -4.3303  11.1340   \n",
       "1           13  top_in_4  bot_in_30  top_out_47  bot_out_42  -4.3359  10.4282   \n",
       "2            3  top_in_2  bot_in_18  top_out_39  bot_out_24  10.2006  -3.3653   \n",
       "3           25  top_in_2  bot_in_23  top_out_28  bot_out_12  10.0852  -3.3595   \n",
       "4            1  top_in_3  bot_in_10   top_out_2   bot_out_1  -4.3219  10.4198   \n",
       "5           19  top_in_2   bot_in_1  top_out_41  bot_out_29  -3.3534  10.5780   \n",
       "6           19  top_in_1   bot_in_4  top_out_23  bot_out_47  -3.4954   9.7918   \n",
       "7           31  top_in_1   bot_in_4  top_out_17  bot_out_51  10.4181  -4.3437   \n",
       "8            3  top_in_2   bot_in_7  top_out_49  bot_out_45  -3.3639  10.7099   \n",
       "9           17  top_in_1   bot_in_3  top_out_12  bot_out_27  -3.4785   9.9535   \n",
       "10          11  top_in_2  bot_in_23  top_out_30  bot_out_14  10.5110  -3.3537   \n",
       "11          18  top_in_1  bot_in_32   top_out_7  bot_out_20  -3.4769   9.5444   \n",
       "12           2  top_in_3  bot_in_16   top_out_8   bot_out_2  10.3853  -4.3244   \n",
       "13          35  top_in_1   bot_in_4  top_out_14  bot_out_37  -3.4836   9.7662   \n",
       "14           4  top_in_1   bot_in_5  top_out_11  bot_out_25  -3.4807   9.9049   \n",
       "15          18  top_in_1   bot_in_8  top_out_25  bot_out_44  -3.4900   9.7822   \n",
       "16           7  top_in_2   bot_in_1  top_out_30  bot_out_14  -3.3384  10.4488   \n",
       "17          13  top_in_1   bot_in_5   top_out_5  bot_out_50   9.8197  -3.5004   \n",
       "18          14  top_in_2   bot_in_1   top_out_6   bot_out_4  -3.3512  10.1060   \n",
       "19          35  top_in_2  bot_in_25  top_out_39  bot_out_24  -3.3750  10.3182   \n",
       "20           1  top_in_2   bot_in_9  top_out_22   bot_out_9  -3.3765   9.9922   \n",
       "21          29  top_in_1  bot_in_19  top_out_23  bot_out_47  -3.5075   9.7829   \n",
       "22          37  top_in_1   bot_in_4  top_out_10  bot_out_21  -3.4654  10.0051   \n",
       "23          18  top_in_1  bot_in_21  top_out_11  bot_out_25  -3.4703   9.9114   \n",
       "24           1  top_in_1   bot_in_4   top_out_3  bot_out_40   9.7525  -3.4941   \n",
       "25           4  top_in_2  bot_in_20   top_out_6  bot_out_17  10.2482  -3.3868   \n",
       "26          31  top_in_1   bot_in_3  top_out_17  bot_out_51   9.9380  -3.4979   \n",
       "27          26  top_in_3  bot_in_16   top_out_8   bot_out_2  10.3881  -4.3380   \n",
       "28          35  top_in_1  bot_in_12   top_out_4  bot_out_23  -3.4751   9.9742   \n",
       "29          13  top_in_2   bot_in_7  top_out_32  bot_out_15  10.2094  -3.3727   \n",
       "30           3  top_in_1  bot_in_22   top_out_1   bot_out_3  -3.5055   9.6209   \n",
       "31          18  top_in_2  bot_in_11  top_out_22   bot_out_9  10.9097  -4.3343   \n",
       "32          12  top_in_2  bot_in_11  top_out_26  bot_out_11  -3.3516  10.1334   \n",
       "33          25  top_in_2  bot_in_17   top_out_6   bot_out_4  10.1864  -3.3568   \n",
       "34          27  top_in_3   bot_in_6   top_out_8   bot_out_2  -4.3231  10.3923   \n",
       "35          14  top_in_1   bot_in_4  top_out_20  bot_out_26  -4.3421  11.2891   \n",
       "36          36  top_in_2  bot_in_13  top_out_32  bot_out_15  -3.3644  10.2265   \n",
       "37          16  top_in_2  bot_in_17  top_out_36  bot_out_18  -3.3480   9.9801   \n",
       "38          31  top_in_1   bot_in_2  top_out_33  bot_out_35  -3.4892  10.1204   \n",
       "39          28  top_in_1   bot_in_4   top_out_9  bot_out_33  -3.4889   9.7036   \n",
       "40          31  top_in_1   bot_in_2   top_out_9  bot_out_33  -3.4915   9.7162   \n",
       "41          31  top_in_2  bot_in_23  top_out_26  bot_out_11  -3.3637  10.1258   \n",
       "42          35  top_in_2  bot_in_18  top_out_26  bot_out_11  -3.3998  10.1348   \n",
       "43          12  top_in_1   bot_in_4  top_out_11  bot_out_25  -3.4870   9.8773   \n",
       "44          32  top_in_1   bot_in_3  top_out_17  bot_out_36  -3.4897   9.9440   \n",
       "45          26  top_in_2  bot_in_11  top_out_44  bot_out_31  10.5152  -3.3638   \n",
       "46          26  top_in_1  bot_in_27   top_out_3  bot_out_16  -3.4953   9.7549   \n",
       "47           7  top_in_1   bot_in_3   top_out_4  bot_out_23  -3.4872   9.5862   \n",
       "48          29  top_in_1  bot_in_12   top_out_1   bot_out_3  -3.5078   9.5879   \n",
       "49          36  top_in_1   bot_in_2  top_out_33  bot_out_35  -3.4738  10.0988   \n",
       "\n",
       "      OUT  \n",
       "0   3.172  \n",
       "1   2.952  \n",
       "2  -2.496  \n",
       "3  -1.396  \n",
       "4   2.928  \n",
       "5  -4.048  \n",
       "6   1.230  \n",
       "7   0.702  \n",
       "8  -4.648  \n",
       "9   1.228  \n",
       "10 -3.598  \n",
       "11  2.952  \n",
       "12  2.902  \n",
       "13  1.500  \n",
       "14  0.578  \n",
       "15  0.578  \n",
       "16 -3.498  \n",
       "17  1.002  \n",
       "18 -2.072  \n",
       "19 -2.448  \n",
       "20 -0.774  \n",
       "21  1.380  \n",
       "22  0.126  \n",
       "23  0.526  \n",
       "24  1.802  \n",
       "25 -2.024  \n",
       "26  0.326  \n",
       "27  2.952  \n",
       "28  2.828  \n",
       "29 -2.022  \n",
       "30  2.676  \n",
       "31 -0.922  \n",
       "32 -1.572  \n",
       "33 -2.048  \n",
       "34  2.952  \n",
       "35  0.052  \n",
       "36 -1.848  \n",
       "37 -0.948  \n",
       "38 -0.648  \n",
       "39  1.952  \n",
       "40  1.976  \n",
       "41 -1.774  \n",
       "42 -1.322  \n",
       "43  0.802  \n",
       "44  0.502  \n",
       "45 -3.948  \n",
       "46  1.552  \n",
       "47  2.880  \n",
       "48  3.048  \n",
       "49 -0.500  "
      ]
     },
     "execution_count": 14,
     "metadata": {},
     "output_type": "execute_result"
    }
   ],
   "source": [
    "trn_df.head(50)"
   ]
  },
  {
   "cell_type": "code",
   "execution_count": 12,
   "id": "7fef93e1",
   "metadata": {},
   "outputs": [
    {
     "data": {
      "text/html": [
       "<div>\n",
       "<style scoped>\n",
       "    .dataframe tbody tr th:only-of-type {\n",
       "        vertical-align: middle;\n",
       "    }\n",
       "\n",
       "    .dataframe tbody tr th {\n",
       "        vertical-align: top;\n",
       "    }\n",
       "\n",
       "    .dataframe thead th {\n",
       "        text-align: right;\n",
       "    }\n",
       "</style>\n",
       "<table border=\"1\" class=\"dataframe\">\n",
       "  <thead>\n",
       "    <tr style=\"text-align: right;\">\n",
       "      <th></th>\n",
       "      <th>MACHINE_NO</th>\n",
       "      <th>VAL1</th>\n",
       "      <th>VAL2</th>\n",
       "      <th>OUT</th>\n",
       "    </tr>\n",
       "  </thead>\n",
       "  <tbody>\n",
       "    <tr>\n",
       "      <th>count</th>\n",
       "      <td>69933.000000</td>\n",
       "      <td>69933.000000</td>\n",
       "      <td>69933.000000</td>\n",
       "      <td>69933.000000</td>\n",
       "    </tr>\n",
       "    <tr>\n",
       "      <th>mean</th>\n",
       "      <td>20.399654</td>\n",
       "      <td>1.393548</td>\n",
       "      <td>5.177607</td>\n",
       "      <td>-0.320425</td>\n",
       "    </tr>\n",
       "    <tr>\n",
       "      <th>std</th>\n",
       "      <td>11.213706</td>\n",
       "      <td>6.529686</td>\n",
       "      <td>6.480383</td>\n",
       "      <td>2.223285</td>\n",
       "    </tr>\n",
       "    <tr>\n",
       "      <th>min</th>\n",
       "      <td>1.000000</td>\n",
       "      <td>-6.361200</td>\n",
       "      <td>-5.612800</td>\n",
       "      <td>-7.148000</td>\n",
       "    </tr>\n",
       "    <tr>\n",
       "      <th>25%</th>\n",
       "      <td>12.000000</td>\n",
       "      <td>-3.485500</td>\n",
       "      <td>-3.357900</td>\n",
       "      <td>-2.024000</td>\n",
       "    </tr>\n",
       "    <tr>\n",
       "      <th>50%</th>\n",
       "      <td>21.000000</td>\n",
       "      <td>-3.359000</td>\n",
       "      <td>9.794900</td>\n",
       "      <td>-0.496000</td>\n",
       "    </tr>\n",
       "    <tr>\n",
       "      <th>75%</th>\n",
       "      <td>31.000000</td>\n",
       "      <td>9.978600</td>\n",
       "      <td>10.109500</td>\n",
       "      <td>1.500000</td>\n",
       "    </tr>\n",
       "    <tr>\n",
       "      <th>max</th>\n",
       "      <td>38.000000</td>\n",
       "      <td>12.257000</td>\n",
       "      <td>13.687200</td>\n",
       "      <td>7.800000</td>\n",
       "    </tr>\n",
       "  </tbody>\n",
       "</table>\n",
       "</div>"
      ],
      "text/plain": [
       "         MACHINE_NO          VAL1          VAL2           OUT\n",
       "count  69933.000000  69933.000000  69933.000000  69933.000000\n",
       "mean      20.399654      1.393548      5.177607     -0.320425\n",
       "std       11.213706      6.529686      6.480383      2.223285\n",
       "min        1.000000     -6.361200     -5.612800     -7.148000\n",
       "25%       12.000000     -3.485500     -3.357900     -2.024000\n",
       "50%       21.000000     -3.359000      9.794900     -0.496000\n",
       "75%       31.000000      9.978600     10.109500      1.500000\n",
       "max       38.000000     12.257000     13.687200      7.800000"
      ]
     },
     "execution_count": 12,
     "metadata": {},
     "output_type": "execute_result"
    }
   ],
   "source": [
    "trn_df.describe()"
   ]
  },
  {
   "cell_type": "code",
   "execution_count": 13,
   "id": "bebe3678",
   "metadata": {},
   "outputs": [
    {
     "data": {
      "text/html": [
       "<div>\n",
       "<style scoped>\n",
       "    .dataframe tbody tr th:only-of-type {\n",
       "        vertical-align: middle;\n",
       "    }\n",
       "\n",
       "    .dataframe tbody tr th {\n",
       "        vertical-align: top;\n",
       "    }\n",
       "\n",
       "    .dataframe thead th {\n",
       "        text-align: right;\n",
       "    }\n",
       "</style>\n",
       "<table border=\"1\" class=\"dataframe\">\n",
       "  <thead>\n",
       "    <tr style=\"text-align: right;\">\n",
       "      <th></th>\n",
       "      <th>MACHINE_NO</th>\n",
       "      <th>VAL1</th>\n",
       "      <th>VAL2</th>\n",
       "    </tr>\n",
       "  </thead>\n",
       "  <tbody>\n",
       "    <tr>\n",
       "      <th>count</th>\n",
       "      <td>17484.000000</td>\n",
       "      <td>17484.000000</td>\n",
       "      <td>17484.000000</td>\n",
       "    </tr>\n",
       "    <tr>\n",
       "      <th>mean</th>\n",
       "      <td>20.322237</td>\n",
       "      <td>1.339239</td>\n",
       "      <td>5.235250</td>\n",
       "    </tr>\n",
       "    <tr>\n",
       "      <th>std</th>\n",
       "      <td>11.296391</td>\n",
       "      <td>6.515794</td>\n",
       "      <td>6.462562</td>\n",
       "    </tr>\n",
       "    <tr>\n",
       "      <th>min</th>\n",
       "      <td>1.000000</td>\n",
       "      <td>-5.549900</td>\n",
       "      <td>-5.238400</td>\n",
       "    </tr>\n",
       "    <tr>\n",
       "      <th>25%</th>\n",
       "      <td>12.000000</td>\n",
       "      <td>-3.485500</td>\n",
       "      <td>-3.357300</td>\n",
       "    </tr>\n",
       "    <tr>\n",
       "      <th>50%</th>\n",
       "      <td>21.000000</td>\n",
       "      <td>-3.359600</td>\n",
       "      <td>9.800100</td>\n",
       "    </tr>\n",
       "    <tr>\n",
       "      <th>75%</th>\n",
       "      <td>31.000000</td>\n",
       "      <td>9.976200</td>\n",
       "      <td>10.110800</td>\n",
       "    </tr>\n",
       "    <tr>\n",
       "      <th>max</th>\n",
       "      <td>38.000000</td>\n",
       "      <td>12.113500</td>\n",
       "      <td>12.046500</td>\n",
       "    </tr>\n",
       "  </tbody>\n",
       "</table>\n",
       "</div>"
      ],
      "text/plain": [
       "         MACHINE_NO          VAL1          VAL2\n",
       "count  17484.000000  17484.000000  17484.000000\n",
       "mean      20.322237      1.339239      5.235250\n",
       "std       11.296391      6.515794      6.462562\n",
       "min        1.000000     -5.549900     -5.238400\n",
       "25%       12.000000     -3.485500     -3.357300\n",
       "50%       21.000000     -3.359600      9.800100\n",
       "75%       31.000000      9.976200     10.110800\n",
       "max       38.000000     12.113500     12.046500"
      ]
     },
     "execution_count": 13,
     "metadata": {},
     "output_type": "execute_result"
    }
   ],
   "source": [
    "tst_df.describe()"
   ]
  },
  {
   "cell_type": "code",
   "execution_count": 25,
   "id": "26371c71",
   "metadata": {},
   "outputs": [
    {
     "data": {
      "text/plain": [
       "array([13,  3, 25,  1, 19, 31, 17, 11, 18,  2, 35,  4,  7, 14, 29, 37, 26,\n",
       "       12, 27, 36, 16, 28, 32, 33, 34, 20, 22,  9, 21,  8, 10, 38, 15,  6,\n",
       "        5], dtype=int64)"
      ]
     },
     "execution_count": 25,
     "metadata": {},
     "output_type": "execute_result"
    }
   ],
   "source": [
    "trn_df['MACHINE_NO'].unique()"
   ]
  },
  {
   "cell_type": "code",
   "execution_count": 35,
   "id": "4239b965",
   "metadata": {},
   "outputs": [
    {
     "data": {
      "text/plain": [
       "['top_in_3', 'top_in_4', 'top_in_2', 'top_in_1', 'top_in_6']\n",
       "Categories (5, object): ['top_in_1', 'top_in_2', 'top_in_3', 'top_in_4', 'top_in_6']"
      ]
     },
     "execution_count": 35,
     "metadata": {},
     "output_type": "execute_result"
    }
   ],
   "source": [
    "trn_df['EQUIP1'].unique()"
   ]
  },
  {
   "cell_type": "code",
   "execution_count": 36,
   "id": "485e70c7",
   "metadata": {},
   "outputs": [
    {
     "data": {
      "text/plain": [
       "['bot_in_24', 'bot_in_30', 'bot_in_18', 'bot_in_23', 'bot_in_10', ..., 'bot_in_31', 'bot_in_29', 'bot_in_35', 'bot_in_26', 'bot_in_41']\n",
       "Length: 39\n",
       "Categories (39, object): ['bot_in_1', 'bot_in_10', 'bot_in_11', 'bot_in_12', ..., 'bot_in_6', 'bot_in_7', 'bot_in_8', 'bot_in_9']"
      ]
     },
     "execution_count": 36,
     "metadata": {},
     "output_type": "execute_result"
    }
   ],
   "source": [
    "trn_df['EQUIP2'].unique()"
   ]
  },
  {
   "cell_type": "code",
   "execution_count": 37,
   "id": "43c9db3e",
   "metadata": {},
   "outputs": [
    {
     "data": {
      "text/plain": [
       "['top_out_8', 'top_out_47', 'top_out_39', 'top_out_28', 'top_out_2', ..., 'top_out_40', 'top_out_45', 'top_out_43', 'top_out_56', 'top_out_54']\n",
       "Length: 54\n",
       "Categories (54, object): ['top_out_1', 'top_out_10', 'top_out_11', 'top_out_12', ..., 'top_out_6', 'top_out_7', 'top_out_8', 'top_out_9']"
      ]
     },
     "execution_count": 37,
     "metadata": {},
     "output_type": "execute_result"
    }
   ],
   "source": [
    "trn_df['EQUIP3'].unique()"
   ]
  },
  {
   "cell_type": "code",
   "execution_count": 38,
   "id": "29e8afc5",
   "metadata": {},
   "outputs": [
    {
     "data": {
      "text/plain": [
       "['bot_out_2', 'bot_out_42', 'bot_out_24', 'bot_out_12', 'bot_out_1', ..., 'bot_out_10', 'bot_out_7', 'bot_out_48', 'bot_out_54', 'bot_out_49']\n",
       "Length: 54\n",
       "Categories (54, object): ['bot_out_1', 'bot_out_10', 'bot_out_11', 'bot_out_12', ..., 'bot_out_6', 'bot_out_7', 'bot_out_8', 'bot_out_9']"
      ]
     },
     "execution_count": 38,
     "metadata": {},
     "output_type": "execute_result"
    }
   ],
   "source": [
    "trn_df['EQUIP4'].unique()"
   ]
  },
  {
   "cell_type": "markdown",
   "id": "702ffd59",
   "metadata": {},
   "source": [
    "## 결측치 확인"
   ]
  },
  {
   "cell_type": "code",
   "execution_count": 9,
   "id": "d9d28965",
   "metadata": {},
   "outputs": [
    {
     "data": {
      "text/plain": [
       "<AxesSubplot:>"
      ]
     },
     "execution_count": 9,
     "metadata": {},
     "output_type": "execute_result"
    },
    {
     "data": {
      "image/png": "[encoded data removed]",
      "text/plain": [
       "<Figure size 1800x720 with 2 Axes>"
      ]
     },
     "metadata": {
      "needs_background": "light"
     },
     "output_type": "display_data"
    }
   ],
   "source": [
    "msno.matrix(trn_df)"
   ]
  },
  {
   "cell_type": "code",
   "execution_count": 10,
   "id": "7a28cbc7",
   "metadata": {},
   "outputs": [
    {
     "data": {
      "text/plain": [
       "<AxesSubplot:>"
      ]
     },
     "execution_count": 10,
     "metadata": {},
     "output_type": "execute_result"
    },
    {
     "data": {
      "image/png": "[encoded data removed]",
      "text/plain": [
       "<Figure size 1800x720 with 2 Axes>"
      ]
     },
     "metadata": {
      "needs_background": "light"
     },
     "output_type": "display_data"
    }
   ],
   "source": [
    "msno.matrix(tst_df)"
   ]
  },
  {
   "cell_type": "code",
   "execution_count": null,
   "id": "861fbd1d",
   "metadata": {},
   "outputs": [],
   "source": []
  },
  {
   "cell_type": "markdown",
   "id": "06924bce",
   "metadata": {},
   "source": [
    "# Feature Analysis"
   ]
  },
  {
   "cell_type": "code",
   "execution_count": 1,
   "id": "64c98a69",
   "metadata": {},
   "outputs": [
    {
     "ename": "NameError",
     "evalue": "name 'trn_df' is not defined",
     "output_type": "error",
     "traceback": [
      "\u001b[1;31m---------------------------------------------------------------------------\u001b[0m",
      "\u001b[1;31mNameError\u001b[0m                                 Traceback (most recent call last)",
      "\u001b[1;32m~\\AppData\\Local\\Temp/ipykernel_50644/2017675338.py\u001b[0m in \u001b[0;36m<module>\u001b[1;34m\u001b[0m\n\u001b[1;32m----> 1\u001b[1;33m \u001b[0mtrn_df\u001b[0m\u001b[1;33m=\u001b[0m\u001b[0mtrn_df\u001b[0m\u001b[1;33m[\u001b[0m\u001b[0mtrn_df\u001b[0m\u001b[1;33m[\u001b[0m\u001b[1;34m'EQUIP1'\u001b[0m\u001b[1;33m]\u001b[0m\u001b[1;33m!=\u001b[0m\u001b[1;34m'top_in_3'\u001b[0m\u001b[1;33m]\u001b[0m\u001b[1;33m\u001b[0m\u001b[1;33m\u001b[0m\u001b[0m\n\u001b[0m\u001b[0;32m      2\u001b[0m \u001b[0mtrn_df\u001b[0m\u001b[1;33m=\u001b[0m\u001b[0mtrn_df\u001b[0m\u001b[1;33m[\u001b[0m\u001b[0mtrn_df\u001b[0m\u001b[1;33m[\u001b[0m\u001b[1;34m'EQUIP1'\u001b[0m\u001b[1;33m]\u001b[0m\u001b[1;33m!=\u001b[0m\u001b[1;34m'top_in_4'\u001b[0m\u001b[1;33m]\u001b[0m\u001b[1;33m\u001b[0m\u001b[1;33m\u001b[0m\u001b[0m\n\u001b[0;32m      3\u001b[0m \u001b[0mtrn_df\u001b[0m\u001b[1;33m=\u001b[0m\u001b[0mtrn_df\u001b[0m\u001b[1;33m[\u001b[0m\u001b[0mtrn_df\u001b[0m\u001b[1;33m[\u001b[0m\u001b[1;34m'EQUIP1'\u001b[0m\u001b[1;33m]\u001b[0m\u001b[1;33m!=\u001b[0m\u001b[1;34m'top_in_6'\u001b[0m\u001b[1;33m]\u001b[0m\u001b[1;33m\u001b[0m\u001b[1;33m\u001b[0m\u001b[0m\n\u001b[0;32m      4\u001b[0m \u001b[0mtrn_df\u001b[0m\u001b[1;33m\u001b[0m\u001b[1;33m\u001b[0m\u001b[0m\n",
      "\u001b[1;31mNameError\u001b[0m: name 'trn_df' is not defined"
     ]
    }
   ],
   "source": [
    "trn_df=trn_df[trn_df['EQUIP1']!='top_in_3']\n",
    "trn_df=trn_df[trn_df['EQUIP1']!='top_in_4']\n",
    "trn_df=trn_df[trn_df['EQUIP1']!='top_in_6']\n",
    "trn_df"
   ]
  },
  {
   "cell_type": "code",
   "execution_count": null,
   "id": "b95f8dd2",
   "metadata": {},
   "outputs": [],
   "source": []
  },
  {
   "cell_type": "code",
   "execution_count": null,
   "id": "22b0ae39",
   "metadata": {},
   "outputs": [],
   "source": []
  },
  {
   "cell_type": "markdown",
   "id": "79f69298",
   "metadata": {},
   "source": [
    "# Feature Scaling"
   ]
  },
  {
   "cell_type": "code",
   "execution_count": 17,
   "id": "9b053138",
   "metadata": {},
   "outputs": [],
   "source": [
    "X_trn = trn_df.iloc[:,:-1]\n",
    "Y_trn = trn_df.iloc[:,-1]\n",
    "\n",
    "X_tst = tst_df"
   ]
  },
  {
   "cell_type": "code",
   "execution_count": 20,
   "id": "441e6011",
   "metadata": {},
   "outputs": [
    {
     "data": {
      "text/plain": [
       "((69933, 7), (69933,))"
      ]
     },
     "execution_count": 20,
     "metadata": {},
     "output_type": "execute_result"
    }
   ],
   "source": [
    "X_trn.shape, Y_trn.shape"
   ]
  },
  {
   "cell_type": "code",
   "execution_count": 19,
   "id": "bb0b2aca",
   "metadata": {},
   "outputs": [
    {
     "data": {
      "text/plain": [
       "(17484, 7)"
      ]
     },
     "execution_count": 19,
     "metadata": {},
     "output_type": "execute_result"
    }
   ],
   "source": [
    "X_tst.shape"
   ]
  },
  {
   "cell_type": "code",
   "execution_count": 39,
   "id": "0e28767d",
   "metadata": {},
   "outputs": [],
   "source": [
    "# convert to categorical feature\n",
    "categorical_feats = ['MACHINE_NO', 'EQUIP1', 'EQUIP2', 'EQUIP3', 'EQUIP4']\n",
    "for feature in X_trn.columns:\n",
    "    if feature in categorical_feats:\n",
    "        X_trn[feature] = X_trn[feature].astype('category')"
   ]
  },
  {
   "cell_type": "code",
   "execution_count": 40,
   "id": "6a3e3871",
   "metadata": {},
   "outputs": [],
   "source": [
    "# import libraries\n",
    "from sklearn.preprocessing import LabelEncoder"
   ]
  },
  {
   "cell_type": "code",
   "execution_count": 41,
   "id": "92f9189a",
   "metadata": {},
   "outputs": [],
   "source": [
    "# define encoder\n",
    "Encoders = []\n",
    "for i in range(len(categorical_feats)):\n",
    "    Encoders.append(LabelEncoder())"
   ]
  },
  {
   "cell_type": "code",
   "execution_count": 42,
   "id": "2ac6f51c",
   "metadata": {},
   "outputs": [],
   "source": [
    "for i, feat in enumerate(categorical_feats):\n",
    "    X_trn[feat] = Encoders[i].fit_transform(X_trn[feat])\n",
    "    X_tst[feat] = Encoders[i].transform(X_tst[feat])"
   ]
  },
  {
   "cell_type": "code",
   "execution_count": 43,
   "id": "e908770b",
   "metadata": {},
   "outputs": [
    {
     "data": {
      "text/html": [
       "<div>\n",
       "<style scoped>\n",
       "    .dataframe tbody tr th:only-of-type {\n",
       "        vertical-align: middle;\n",
       "    }\n",
       "\n",
       "    .dataframe tbody tr th {\n",
       "        vertical-align: top;\n",
       "    }\n",
       "\n",
       "    .dataframe thead th {\n",
       "        text-align: right;\n",
       "    }\n",
       "</style>\n",
       "<table border=\"1\" class=\"dataframe\">\n",
       "  <thead>\n",
       "    <tr style=\"text-align: right;\">\n",
       "      <th></th>\n",
       "      <th>MACHINE_NO</th>\n",
       "      <th>EQUIP1</th>\n",
       "      <th>EQUIP2</th>\n",
       "      <th>EQUIP3</th>\n",
       "      <th>EQUIP4</th>\n",
       "      <th>VAL1</th>\n",
       "      <th>VAL2</th>\n",
       "    </tr>\n",
       "  </thead>\n",
       "  <tbody>\n",
       "    <tr>\n",
       "      <th>0</th>\n",
       "      <td>12</td>\n",
       "      <td>2</td>\n",
       "      <td>16</td>\n",
       "      <td>52</td>\n",
       "      <td>11</td>\n",
       "      <td>-4.3303</td>\n",
       "      <td>11.1340</td>\n",
       "    </tr>\n",
       "    <tr>\n",
       "      <th>1</th>\n",
       "      <td>12</td>\n",
       "      <td>3</td>\n",
       "      <td>22</td>\n",
       "      <td>41</td>\n",
       "      <td>36</td>\n",
       "      <td>-4.3359</td>\n",
       "      <td>10.4282</td>\n",
       "    </tr>\n",
       "    <tr>\n",
       "      <th>2</th>\n",
       "      <td>2</td>\n",
       "      <td>1</td>\n",
       "      <td>9</td>\n",
       "      <td>32</td>\n",
       "      <td>16</td>\n",
       "      <td>10.2006</td>\n",
       "      <td>-3.3653</td>\n",
       "    </tr>\n",
       "    <tr>\n",
       "      <th>3</th>\n",
       "      <td>22</td>\n",
       "      <td>1</td>\n",
       "      <td>15</td>\n",
       "      <td>20</td>\n",
       "      <td>3</td>\n",
       "      <td>10.0852</td>\n",
       "      <td>-3.3595</td>\n",
       "    </tr>\n",
       "    <tr>\n",
       "      <th>4</th>\n",
       "      <td>0</td>\n",
       "      <td>2</td>\n",
       "      <td>1</td>\n",
       "      <td>11</td>\n",
       "      <td>0</td>\n",
       "      <td>-4.3219</td>\n",
       "      <td>10.4198</td>\n",
       "    </tr>\n",
       "  </tbody>\n",
       "</table>\n",
       "</div>"
      ],
      "text/plain": [
       "   MACHINE_NO  EQUIP1  EQUIP2  EQUIP3  EQUIP4     VAL1     VAL2\n",
       "0          12       2      16      52      11  -4.3303  11.1340\n",
       "1          12       3      22      41      36  -4.3359  10.4282\n",
       "2           2       1       9      32      16  10.2006  -3.3653\n",
       "3          22       1      15      20       3  10.0852  -3.3595\n",
       "4           0       2       1      11       0  -4.3219  10.4198"
      ]
     },
     "execution_count": 43,
     "metadata": {},
     "output_type": "execute_result"
    }
   ],
   "source": [
    "X_trn.head()"
   ]
  },
  {
   "cell_type": "code",
   "execution_count": 44,
   "id": "75c7f31a",
   "metadata": {},
   "outputs": [
    {
     "data": {
      "text/html": [
       "<div>\n",
       "<style scoped>\n",
       "    .dataframe tbody tr th:only-of-type {\n",
       "        vertical-align: middle;\n",
       "    }\n",
       "\n",
       "    .dataframe tbody tr th {\n",
       "        vertical-align: top;\n",
       "    }\n",
       "\n",
       "    .dataframe thead th {\n",
       "        text-align: right;\n",
       "    }\n",
       "</style>\n",
       "<table border=\"1\" class=\"dataframe\">\n",
       "  <thead>\n",
       "    <tr style=\"text-align: right;\">\n",
       "      <th></th>\n",
       "      <th>MACHINE_NO</th>\n",
       "      <th>EQUIP1</th>\n",
       "      <th>EQUIP2</th>\n",
       "      <th>EQUIP3</th>\n",
       "      <th>EQUIP4</th>\n",
       "      <th>VAL1</th>\n",
       "      <th>VAL2</th>\n",
       "    </tr>\n",
       "  </thead>\n",
       "  <tbody>\n",
       "    <tr>\n",
       "      <th>0</th>\n",
       "      <td>22</td>\n",
       "      <td>1</td>\n",
       "      <td>0</td>\n",
       "      <td>21</td>\n",
       "      <td>4</td>\n",
       "      <td>10.0219</td>\n",
       "      <td>-3.3461</td>\n",
       "    </tr>\n",
       "    <tr>\n",
       "      <th>1</th>\n",
       "      <td>7</td>\n",
       "      <td>0</td>\n",
       "      <td>30</td>\n",
       "      <td>24</td>\n",
       "      <td>32</td>\n",
       "      <td>-3.4813</td>\n",
       "      <td>10.0562</td>\n",
       "    </tr>\n",
       "    <tr>\n",
       "      <th>2</th>\n",
       "      <td>2</td>\n",
       "      <td>0</td>\n",
       "      <td>11</td>\n",
       "      <td>28</td>\n",
       "      <td>37</td>\n",
       "      <td>-3.5100</td>\n",
       "      <td>10.0501</td>\n",
       "    </tr>\n",
       "    <tr>\n",
       "      <th>3</th>\n",
       "      <td>10</td>\n",
       "      <td>3</td>\n",
       "      <td>31</td>\n",
       "      <td>30</td>\n",
       "      <td>10</td>\n",
       "      <td>-4.3366</td>\n",
       "      <td>10.4269</td>\n",
       "    </tr>\n",
       "    <tr>\n",
       "      <th>4</th>\n",
       "      <td>20</td>\n",
       "      <td>0</td>\n",
       "      <td>30</td>\n",
       "      <td>2</td>\n",
       "      <td>17</td>\n",
       "      <td>-3.4895</td>\n",
       "      <td>9.9315</td>\n",
       "    </tr>\n",
       "  </tbody>\n",
       "</table>\n",
       "</div>"
      ],
      "text/plain": [
       "   MACHINE_NO  EQUIP1  EQUIP2  EQUIP3  EQUIP4     VAL1     VAL2\n",
       "0          22       1       0      21       4  10.0219  -3.3461\n",
       "1           7       0      30      24      32  -3.4813  10.0562\n",
       "2           2       0      11      28      37  -3.5100  10.0501\n",
       "3          10       3      31      30      10  -4.3366  10.4269\n",
       "4          20       0      30       2      17  -3.4895   9.9315"
      ]
     },
     "execution_count": 44,
     "metadata": {},
     "output_type": "execute_result"
    }
   ],
   "source": [
    "X_tst.head()"
   ]
  },
  {
   "cell_type": "code",
   "execution_count": null,
   "id": "7a2aea64",
   "metadata": {},
   "outputs": [],
   "source": []
  },
  {
   "cell_type": "code",
   "execution_count": null,
   "id": "2ed6a3ff",
   "metadata": {},
   "outputs": [],
   "source": []
  },
  {
   "cell_type": "code",
   "execution_count": null,
   "id": "63a83105",
   "metadata": {},
   "outputs": [],
   "source": []
  },
  {
   "cell_type": "markdown",
   "id": "9cd2d7ce",
   "metadata": {},
   "source": [
    "# Modeling\n"
   ]
  },
  {
   "cell_type": "code",
   "execution_count": 48,
   "id": "b79c8253",
   "metadata": {},
   "outputs": [],
   "source": [
    "from sklearn.ensemble import RandomForestRegressor\n",
    "from sklearn.metrics import mean_squared_error\n",
    "from sklearn.model_selection import cross_val_score, train_test_split"
   ]
  },
  {
   "cell_type": "code",
   "execution_count": 61,
   "id": "1b21b228",
   "metadata": {},
   "outputs": [],
   "source": [
    "model = RandomForestRegressor(n_estimators=200)"
   ]
  },
  {
   "cell_type": "code",
   "execution_count": 65,
   "id": "c697ef98",
   "metadata": {},
   "outputs": [],
   "source": [
    "X_train, X_test, y_train, y_test = train_test_split(X_trn, Y_trn, test_size=0.1, random_state=100)"
   ]
  },
  {
   "cell_type": "code",
   "execution_count": 67,
   "id": "48dd1403",
   "metadata": {},
   "outputs": [
    {
     "data": {
      "text/plain": [
       "RandomForestRegressor(n_estimators=200)"
      ]
     },
     "execution_count": 67,
     "metadata": {},
     "output_type": "execute_result"
    }
   ],
   "source": [
    "model.fit(X_train, y_train)"
   ]
  },
  {
   "cell_type": "code",
   "execution_count": 68,
   "id": "3348dc35",
   "metadata": {},
   "outputs": [],
   "source": [
    "y_predict = model.predict(X_test)"
   ]
  },
  {
   "cell_type": "code",
   "execution_count": 55,
   "id": "ae4ebf72",
   "metadata": {},
   "outputs": [
    {
     "data": {
      "text/plain": [
       "0.2895376339006834"
      ]
     },
     "execution_count": 55,
     "metadata": {},
     "output_type": "execute_result"
    }
   ],
   "source": [
    "mean_squared_error(y_test, y_predict, squared=False)"
   ]
  },
  {
   "cell_type": "code",
   "execution_count": 56,
   "id": "4524f416",
   "metadata": {},
   "outputs": [],
   "source": [
    "def rmse_metric(estimator, X, y):\n",
    "    y_pred = estimator.predict(X)\n",
    "    return mean_squared_error(y, y_pred, squared=False)"
   ]
  },
  {
   "cell_type": "code",
   "execution_count": 62,
   "id": "ae2c0260",
   "metadata": {},
   "outputs": [
    {
     "name": "stderr",
     "output_type": "stream",
     "text": [
      "[Parallel(n_jobs=-1)]: Using backend LokyBackend with 48 concurrent workers.\n",
      "[Parallel(n_jobs=-1)]: Done   3 out of  10 | elapsed:   37.0s remaining:  1.4min\n",
      "[Parallel(n_jobs=-1)]: Done  10 out of  10 | elapsed:   37.2s finished\n"
     ]
    }
   ],
   "source": [
    "socre = cross_val_score(model, X_trn, Y_trn, scoring=rmse_metric, cv=10, verbose=1, n_jobs=-1)"
   ]
  },
  {
   "cell_type": "code",
   "execution_count": 63,
   "id": "0a4e4bb1",
   "metadata": {},
   "outputs": [
    {
     "data": {
      "text/plain": [
       "0.2695870099884256"
      ]
     },
     "execution_count": 63,
     "metadata": {},
     "output_type": "execute_result"
    }
   ],
   "source": [
    "np.mean(socre)"
   ]
  },
  {
   "cell_type": "code",
   "execution_count": 69,
   "id": "58b988f0",
   "metadata": {},
   "outputs": [],
   "source": [
    "test_prediction = model.predict(X_tst)"
   ]
  },
  {
   "cell_type": "code",
   "execution_count": 70,
   "id": "ad789945",
   "metadata": {},
   "outputs": [
    {
     "data": {
      "text/plain": [
       "array([-1.03439   ,  0.47165833, -0.27293   , ...,  1.45815   ,\n",
       "       -1.371345  , -2.61138   ])"
      ]
     },
     "execution_count": 70,
     "metadata": {},
     "output_type": "execute_result"
    }
   ],
   "source": [
    "test_prediction"
   ]
  },
  {
   "cell_type": "code",
   "execution_count": 73,
   "id": "c46e049d",
   "metadata": {},
   "outputs": [],
   "source": [
    "sample = os.path.join(datapath, 'answer_sample.csv')"
   ]
  },
  {
   "cell_type": "code",
   "execution_count": 74,
   "id": "f9add819",
   "metadata": {},
   "outputs": [],
   "source": [
    "sample_submission = pd.read_csv(sample)"
   ]
  },
  {
   "cell_type": "code",
   "execution_count": 75,
   "id": "bae6c9c1",
   "metadata": {},
   "outputs": [
    {
     "data": {
      "text/html": [
       "<div>\n",
       "<style scoped>\n",
       "    .dataframe tbody tr th:only-of-type {\n",
       "        vertical-align: middle;\n",
       "    }\n",
       "\n",
       "    .dataframe tbody tr th {\n",
       "        vertical-align: top;\n",
       "    }\n",
       "\n",
       "    .dataframe thead th {\n",
       "        text-align: right;\n",
       "    }\n",
       "</style>\n",
       "<table border=\"1\" class=\"dataframe\">\n",
       "  <thead>\n",
       "    <tr style=\"text-align: right;\">\n",
       "      <th></th>\n",
       "      <th>OUT</th>\n",
       "    </tr>\n",
       "  </thead>\n",
       "  <tbody>\n",
       "    <tr>\n",
       "      <th>0</th>\n",
       "      <td>0</td>\n",
       "    </tr>\n",
       "    <tr>\n",
       "      <th>1</th>\n",
       "      <td>0</td>\n",
       "    </tr>\n",
       "    <tr>\n",
       "      <th>2</th>\n",
       "      <td>0</td>\n",
       "    </tr>\n",
       "    <tr>\n",
       "      <th>3</th>\n",
       "      <td>0</td>\n",
       "    </tr>\n",
       "    <tr>\n",
       "      <th>4</th>\n",
       "      <td>0</td>\n",
       "    </tr>\n",
       "    <tr>\n",
       "      <th>...</th>\n",
       "      <td>...</td>\n",
       "    </tr>\n",
       "    <tr>\n",
       "      <th>17479</th>\n",
       "      <td>0</td>\n",
       "    </tr>\n",
       "    <tr>\n",
       "      <th>17480</th>\n",
       "      <td>0</td>\n",
       "    </tr>\n",
       "    <tr>\n",
       "      <th>17481</th>\n",
       "      <td>0</td>\n",
       "    </tr>\n",
       "    <tr>\n",
       "      <th>17482</th>\n",
       "      <td>0</td>\n",
       "    </tr>\n",
       "    <tr>\n",
       "      <th>17483</th>\n",
       "      <td>0</td>\n",
       "    </tr>\n",
       "  </tbody>\n",
       "</table>\n",
       "<p>17484 rows × 1 columns</p>\n",
       "</div>"
      ],
      "text/plain": [
       "       OUT\n",
       "0        0\n",
       "1        0\n",
       "2        0\n",
       "3        0\n",
       "4        0\n",
       "...    ...\n",
       "17479    0\n",
       "17480    0\n",
       "17481    0\n",
       "17482    0\n",
       "17483    0\n",
       "\n",
       "[17484 rows x 1 columns]"
      ]
     },
     "execution_count": 75,
     "metadata": {},
     "output_type": "execute_result"
    }
   ],
   "source": [
    "sample_submission"
   ]
  },
  {
   "cell_type": "code",
   "execution_count": 76,
   "id": "178d1bdd",
   "metadata": {},
   "outputs": [],
   "source": [
    "sample_submission['OUT'] = test_prediction"
   ]
  },
  {
   "cell_type": "code",
   "execution_count": 77,
   "id": "679c5d76",
   "metadata": {},
   "outputs": [],
   "source": [
    "sample_submission.to_csv('./test_submission.csv', index=False)"
   ]
  },
  {
   "cell_type": "code",
   "execution_count": null,
   "id": "a40ab8dd",
   "metadata": {},
   "outputs": [],
   "source": []
  }
 ],
 "metadata": {
  "kernelspec": {
   "display_name": "Python 3 (ipykernel)",
   "language": "python",
   "name": "python3"
  },
  "language_info": {
   "codemirror_mode": {
    "name": "ipython",
    "version": 3
   },
   "file_extension": ".py",
   "mimetype": "text/x-python",
   "name": "python",
   "nbconvert_exporter": "python",
   "pygments_lexer": "ipython3",
   "version": "3.7.10"
  }
 },
 "nbformat": 4,
 "nbformat_minor": 5
}
